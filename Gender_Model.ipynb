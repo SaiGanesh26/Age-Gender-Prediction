{
 "cells": [
  {
   "cell_type": "code",
   "execution_count": 1,
   "metadata": {
    "id": "OFjxF7aqryEG"
   },
   "outputs": [],
   "source": [
    "import cv2\n",
    "import numpy as np\n",
    "import pandas as pd \n",
    "import time\n",
    "import matplotlib.pyplot as plt\n",
    "import matplotlib.image as mpimg\n",
    "from sklearn.model_selection import train_test_split\n",
    "from sklearn.utils import compute_class_weight\n",
    "%matplotlib inline\n",
    "\n",
    "from sklearn.metrics import accuracy_score\n",
    "from sklearn.metrics import classification_report,confusion_matrix\n",
    "import tensorflow as tf\n",
    "from tensorflow import keras\n",
    "from tensorflow.keras.models import Model\n",
    "from tensorflow.keras.layers import Input, Dense, Activation, Conv2D, MaxPool2D, AveragePooling2D, Flatten, Dropout, BatchNormalization\n",
    "from tensorflow.keras.optimizers import SGD, RMSprop, Adam"
   ]
  },
  {
   "cell_type": "code",
   "execution_count": 2,
   "metadata": {},
   "outputs": [
    {
     "name": "stdout",
     "output_type": "stream",
     "text": [
      "Num GPUs Available:  [PhysicalDevice(name='/physical_device:GPU:0', device_type='GPU'), PhysicalDevice(name='/physical_device:GPU:1', device_type='GPU'), PhysicalDevice(name='/physical_device:GPU:2', device_type='GPU'), PhysicalDevice(name='/physical_device:GPU:3', device_type='GPU'), PhysicalDevice(name='/physical_device:GPU:4', device_type='GPU'), PhysicalDevice(name='/physical_device:GPU:5', device_type='GPU'), PhysicalDevice(name='/physical_device:GPU:6', device_type='GPU'), PhysicalDevice(name='/physical_device:GPU:7', device_type='GPU')]\n"
     ]
    }
   ],
   "source": [
    "print(\"Num GPUs Available: \", tf.config.experimental.list_physical_devices('GPU'))"
   ]
  },
  {
   "cell_type": "code",
   "execution_count": 3,
   "metadata": {},
   "outputs": [],
   "source": [
    "wiki_process =  pd.read_csv(\"data/dataset.csv\")"
   ]
  },
  {
   "cell_type": "code",
   "execution_count": 4,
   "metadata": {
    "colab": {
     "base_uri": "https://localhost:8080/"
    },
    "id": "4r48NY_QJYgf",
    "outputId": "f1b49401-8aa4-4e08-a6fa-2474977001a3"
   },
   "outputs": [
    {
     "data": {
      "text/html": [
       "<div>\n",
       "<style scoped>\n",
       "    .dataframe tbody tr th:only-of-type {\n",
       "        vertical-align: middle;\n",
       "    }\n",
       "\n",
       "    .dataframe tbody tr th {\n",
       "        vertical-align: top;\n",
       "    }\n",
       "\n",
       "    .dataframe thead th {\n",
       "        text-align: right;\n",
       "    }\n",
       "</style>\n",
       "<table border=\"1\" class=\"dataframe\">\n",
       "  <thead>\n",
       "    <tr style=\"text-align: right;\">\n",
       "      <th></th>\n",
       "      <th>dob</th>\n",
       "      <th>photo_taken</th>\n",
       "      <th>gender</th>\n",
       "      <th>img_path</th>\n",
       "      <th>face_score1</th>\n",
       "      <th>face_score2</th>\n",
       "      <th>age</th>\n",
       "    </tr>\n",
       "  </thead>\n",
       "  <tbody>\n",
       "    <tr>\n",
       "      <th>0</th>\n",
       "      <td>1982</td>\n",
       "      <td>2009</td>\n",
       "      <td>1.0</td>\n",
       "      <td>wiki_crop/17/10000217_1981-05-05_2009.jpg</td>\n",
       "      <td>4.300962</td>\n",
       "      <td>NaN</td>\n",
       "      <td>27</td>\n",
       "    </tr>\n",
       "    <tr>\n",
       "      <th>1</th>\n",
       "      <td>1949</td>\n",
       "      <td>2008</td>\n",
       "      <td>1.0</td>\n",
       "      <td>wiki_crop/12/100012_1948-07-03_2008.jpg</td>\n",
       "      <td>4.329329</td>\n",
       "      <td>NaN</td>\n",
       "      <td>59</td>\n",
       "    </tr>\n",
       "    <tr>\n",
       "      <th>2</th>\n",
       "      <td>1972</td>\n",
       "      <td>2012</td>\n",
       "      <td>0.0</td>\n",
       "      <td>wiki_crop/16/10002116_1971-05-31_2012.jpg</td>\n",
       "      <td>3.408442</td>\n",
       "      <td>NaN</td>\n",
       "      <td>40</td>\n",
       "    </tr>\n",
       "    <tr>\n",
       "      <th>3</th>\n",
       "      <td>1961</td>\n",
       "      <td>2012</td>\n",
       "      <td>0.0</td>\n",
       "      <td>wiki_crop/02/10002702_1960-11-09_2012.jpg</td>\n",
       "      <td>4.748056</td>\n",
       "      <td>NaN</td>\n",
       "      <td>51</td>\n",
       "    </tr>\n",
       "    <tr>\n",
       "      <th>4</th>\n",
       "      <td>1938</td>\n",
       "      <td>1971</td>\n",
       "      <td>1.0</td>\n",
       "      <td>wiki_crop/41/10003541_1937-09-27_1971.jpg</td>\n",
       "      <td>4.184828</td>\n",
       "      <td>NaN</td>\n",
       "      <td>33</td>\n",
       "    </tr>\n",
       "  </tbody>\n",
       "</table>\n",
       "</div>"
      ],
      "text/plain": [
       "    dob  photo_taken  gender                                   img_path  \\\n",
       "0  1982         2009     1.0  wiki_crop/17/10000217_1981-05-05_2009.jpg   \n",
       "1  1949         2008     1.0    wiki_crop/12/100012_1948-07-03_2008.jpg   \n",
       "2  1972         2012     0.0  wiki_crop/16/10002116_1971-05-31_2012.jpg   \n",
       "3  1961         2012     0.0  wiki_crop/02/10002702_1960-11-09_2012.jpg   \n",
       "4  1938         1971     1.0  wiki_crop/41/10003541_1937-09-27_1971.jpg   \n",
       "\n",
       "   face_score1  face_score2  age  \n",
       "0     4.300962          NaN   27  \n",
       "1     4.329329          NaN   59  \n",
       "2     3.408442          NaN   40  \n",
       "3     4.748056          NaN   51  \n",
       "4     4.184828          NaN   33  "
      ]
     },
     "execution_count": 4,
     "metadata": {},
     "output_type": "execute_result"
    }
   ],
   "source": [
    "wiki_process.head()"
   ]
  },
  {
   "cell_type": "code",
   "execution_count": 5,
   "metadata": {},
   "outputs": [
    {
     "data": {
      "text/plain": [
       "59455"
      ]
     },
     "execution_count": 5,
     "metadata": {},
     "output_type": "execute_result"
    }
   ],
   "source": [
    "len(wiki_process)"
   ]
  },
  {
   "cell_type": "code",
   "execution_count": 6,
   "metadata": {
    "id": "vipIhXCiww3x"
   },
   "outputs": [
    {
     "name": "stdout",
     "output_type": "stream",
     "text": [
      "time taken for execution :- 516.8129301071167\n"
     ]
    }
   ],
   "source": [
    "start = time.time()\n",
    "\n",
    "try:  \n",
    "    with tf.device('/device:GPU:5'):\n",
    "        image_list = []\n",
    "        for path in wiki_process[\"img_path\"]:\n",
    "#             if count == 500:\n",
    "#                 break\n",
    "#             else:\n",
    "            img = cv2.imread(\"data/\" + path,cv2.IMREAD_GRAYSCALE)\n",
    "            img = cv2.resize(img,(200,200))\n",
    "            image_list.append(img)\n",
    "#                 count += 1\n",
    "except RuntimeError as e:\n",
    "  print(e)\n",
    "end = time.time()\n",
    "print(\"time taken for execution :- {}\".format(end-start))"
   ]
  },
  {
   "cell_type": "code",
   "execution_count": 7,
   "metadata": {},
   "outputs": [
    {
     "data": {
      "text/html": [
       "<div>\n",
       "<style scoped>\n",
       "    .dataframe tbody tr th:only-of-type {\n",
       "        vertical-align: middle;\n",
       "    }\n",
       "\n",
       "    .dataframe tbody tr th {\n",
       "        vertical-align: top;\n",
       "    }\n",
       "\n",
       "    .dataframe thead th {\n",
       "        text-align: right;\n",
       "    }\n",
       "</style>\n",
       "<table border=\"1\" class=\"dataframe\">\n",
       "  <thead>\n",
       "    <tr style=\"text-align: right;\">\n",
       "      <th></th>\n",
       "      <th>dob</th>\n",
       "      <th>photo_taken</th>\n",
       "      <th>gender</th>\n",
       "      <th>img_path</th>\n",
       "      <th>face_score1</th>\n",
       "      <th>face_score2</th>\n",
       "      <th>age</th>\n",
       "      <th>image</th>\n",
       "    </tr>\n",
       "  </thead>\n",
       "  <tbody>\n",
       "    <tr>\n",
       "      <th>0</th>\n",
       "      <td>1982</td>\n",
       "      <td>2009</td>\n",
       "      <td>1.0</td>\n",
       "      <td>wiki_crop/17/10000217_1981-05-05_2009.jpg</td>\n",
       "      <td>4.300962</td>\n",
       "      <td>NaN</td>\n",
       "      <td>27</td>\n",
       "      <td>[[255, 255, 255, 255, 255, 255, 255, 255, 255,...</td>\n",
       "    </tr>\n",
       "    <tr>\n",
       "      <th>1</th>\n",
       "      <td>1949</td>\n",
       "      <td>2008</td>\n",
       "      <td>1.0</td>\n",
       "      <td>wiki_crop/12/100012_1948-07-03_2008.jpg</td>\n",
       "      <td>4.329329</td>\n",
       "      <td>NaN</td>\n",
       "      <td>59</td>\n",
       "      <td>[[95, 91, 93, 96, 98, 99, 97, 93, 93, 95, 96, ...</td>\n",
       "    </tr>\n",
       "    <tr>\n",
       "      <th>2</th>\n",
       "      <td>1972</td>\n",
       "      <td>2012</td>\n",
       "      <td>0.0</td>\n",
       "      <td>wiki_crop/16/10002116_1971-05-31_2012.jpg</td>\n",
       "      <td>3.408442</td>\n",
       "      <td>NaN</td>\n",
       "      <td>40</td>\n",
       "      <td>[[37, 37, 37, 37, 37, 37, 37, 37, 37, 36, 36, ...</td>\n",
       "    </tr>\n",
       "    <tr>\n",
       "      <th>3</th>\n",
       "      <td>1961</td>\n",
       "      <td>2012</td>\n",
       "      <td>0.0</td>\n",
       "      <td>wiki_crop/02/10002702_1960-11-09_2012.jpg</td>\n",
       "      <td>4.748056</td>\n",
       "      <td>NaN</td>\n",
       "      <td>51</td>\n",
       "      <td>[[121, 121, 121, 122, 122, 122, 123, 123, 123,...</td>\n",
       "    </tr>\n",
       "    <tr>\n",
       "      <th>4</th>\n",
       "      <td>1938</td>\n",
       "      <td>1971</td>\n",
       "      <td>1.0</td>\n",
       "      <td>wiki_crop/41/10003541_1937-09-27_1971.jpg</td>\n",
       "      <td>4.184828</td>\n",
       "      <td>NaN</td>\n",
       "      <td>33</td>\n",
       "      <td>[[190, 204, 202, 197, 202, 202, 200, 201, 204,...</td>\n",
       "    </tr>\n",
       "  </tbody>\n",
       "</table>\n",
       "</div>"
      ],
      "text/plain": [
       "    dob  photo_taken  gender                                   img_path  \\\n",
       "0  1982         2009     1.0  wiki_crop/17/10000217_1981-05-05_2009.jpg   \n",
       "1  1949         2008     1.0    wiki_crop/12/100012_1948-07-03_2008.jpg   \n",
       "2  1972         2012     0.0  wiki_crop/16/10002116_1971-05-31_2012.jpg   \n",
       "3  1961         2012     0.0  wiki_crop/02/10002702_1960-11-09_2012.jpg   \n",
       "4  1938         1971     1.0  wiki_crop/41/10003541_1937-09-27_1971.jpg   \n",
       "\n",
       "   face_score1  face_score2  age  \\\n",
       "0     4.300962          NaN   27   \n",
       "1     4.329329          NaN   59   \n",
       "2     3.408442          NaN   40   \n",
       "3     4.748056          NaN   51   \n",
       "4     4.184828          NaN   33   \n",
       "\n",
       "                                               image  \n",
       "0  [[255, 255, 255, 255, 255, 255, 255, 255, 255,...  \n",
       "1  [[95, 91, 93, 96, 98, 99, 97, 93, 93, 95, 96, ...  \n",
       "2  [[37, 37, 37, 37, 37, 37, 37, 37, 37, 36, 36, ...  \n",
       "3  [[121, 121, 121, 122, 122, 122, 123, 123, 123,...  \n",
       "4  [[190, 204, 202, 197, 202, 202, 200, 201, 204,...  "
      ]
     },
     "execution_count": 7,
     "metadata": {},
     "output_type": "execute_result"
    }
   ],
   "source": [
    "# wiki_process = wiki_process.head(500)\n",
    "wiki_process[\"image\"] = image_list\n",
    "wiki_process.head()"
   ]
  },
  {
   "cell_type": "code",
   "execution_count": 8,
   "metadata": {},
   "outputs": [
    {
     "name": "stdout",
     "output_type": "stream",
     "text": [
      "<class 'pandas.core.frame.DataFrame'>\n",
      "RangeIndex: 59455 entries, 0 to 59454\n",
      "Data columns (total 8 columns):\n",
      " #   Column       Non-Null Count  Dtype  \n",
      "---  ------       --------------  -----  \n",
      " 0   dob          59455 non-null  int64  \n",
      " 1   photo_taken  59455 non-null  int64  \n",
      " 2   gender       59455 non-null  float64\n",
      " 3   img_path     59455 non-null  object \n",
      " 4   face_score1  59455 non-null  float64\n",
      " 5   face_score2  0 non-null      float64\n",
      " 6   age          59455 non-null  int64  \n",
      " 7   image        59455 non-null  object \n",
      "dtypes: float64(3), int64(3), object(2)\n",
      "memory usage: 3.6+ MB\n"
     ]
    }
   ],
   "source": [
    "wiki_process.info()"
   ]
  },
  {
   "cell_type": "code",
   "execution_count": 9,
   "metadata": {},
   "outputs": [
    {
     "data": {
      "text/plain": [
       "<matplotlib.image.AxesImage at 0x7f6e107d7a60>"
      ]
     },
     "execution_count": 9,
     "metadata": {},
     "output_type": "execute_result"
    },
    {
     "data": {
      "image/png": "[encoded data removed]",
      "text/plain": [
       "<Figure size 432x288 with 1 Axes>"
      ]
     },
     "metadata": {
      "needs_background": "light"
     },
     "output_type": "display_data"
    }
   ],
   "source": [
    "plt.imshow(wiki_process[\"image\"][39454])"
   ]
  },
  {
   "cell_type": "code",
   "execution_count": 10,
   "metadata": {},
   "outputs": [],
   "source": [
    "#normalizing the pixel values\n",
    "try:  \n",
    "    with tf.device('/device:GPU:7'):\n",
    "        x_data = np.array(image_list)/255\n",
    "        y_data = wiki_process[\"gender\"].to_numpy()\n",
    "except RuntimeError as e:\n",
    "  print(e)"
   ]
  },
  {
   "cell_type": "code",
   "execution_count": 11,
   "metadata": {},
   "outputs": [
    {
     "data": {
      "text/plain": [
       "(59455, 200, 200)"
      ]
     },
     "execution_count": 11,
     "metadata": {},
     "output_type": "execute_result"
    }
   ],
   "source": [
    "x_data.shape"
   ]
  },
  {
   "cell_type": "code",
   "execution_count": 12,
   "metadata": {},
   "outputs": [
    {
     "data": {
      "text/plain": [
       "(59455,)"
      ]
     },
     "execution_count": 12,
     "metadata": {},
     "output_type": "execute_result"
    }
   ],
   "source": [
    "y_data.shape"
   ]
  },
  {
   "cell_type": "code",
   "execution_count": 13,
   "metadata": {},
   "outputs": [
    {
     "name": "stdout",
     "output_type": "stream",
     "text": [
      "x_data shape: (59455, 200, 200, 1)\n",
      "y_data shape: (59455,)\n"
     ]
    }
   ],
   "source": [
    "# image_x will contain the original grayscale images \n",
    "x_data = x_data.reshape((x_data.shape[0],200,200,1))\n",
    "\n",
    "print(\"x_data shape: {}\".format(x_data.shape))\n",
    "print(\"y_data shape: {}\".format(y_data.shape))"
   ]
  },
  {
   "cell_type": "code",
   "execution_count": 14,
   "metadata": {},
   "outputs": [
    {
     "name": "stdout",
     "output_type": "stream",
     "text": [
      "train_x shape: (39834, 200, 200, 1)\n",
      "train_y shape: (39834,)\n",
      "\n",
      "test_x shape: (19621, 200, 200, 1)\n",
      "test_y shape: (19621,)\n"
     ]
    }
   ],
   "source": [
    "train_x, test_x, train_y, test_y = train_test_split(x_data, y_data, test_size=0.33, random_state=42)\n",
    "\n",
    "print(\"train_x shape: {}\".format(train_x.shape))\n",
    "print(\"train_y shape: {}\\n\".format(train_y.shape))\n",
    "\n",
    "print(\"test_x shape: {}\".format(test_x.shape))\n",
    "print(\"test_y shape: {}\".format(test_y.shape))"
   ]
  },
  {
   "cell_type": "code",
   "execution_count": 15,
   "metadata": {},
   "outputs": [],
   "source": [
    "# num_subjects = np.unique(y_data).shape[0]\n",
    "# print(\"Number of subjects: {}\".format(np.unique(y_data).shape[0]))"
   ]
  },
  {
   "cell_type": "markdown",
   "metadata": {},
   "source": [
    "# Tensorflow"
   ]
  },
  {
   "cell_type": "code",
   "execution_count": 22,
   "metadata": {},
   "outputs": [
    {
     "name": "stdout",
     "output_type": "stream",
     "text": [
      "Model: \"model\"\n",
      "_________________________________________________________________\n",
      "Layer (type)                 Output Shape              Param #   \n",
      "=================================================================\n",
      "input_1 (InputLayer)         [(None, 200, 200, 1)]     0         \n",
      "_________________________________________________________________\n",
      "conv2d (Conv2D)              (None, 186, 186, 2)       452       \n",
      "_________________________________________________________________\n",
      "max_pooling2d (MaxPooling2D) (None, 93, 93, 2)         0         \n",
      "_________________________________________________________________\n",
      "conv2d_1 (Conv2D)            (None, 79, 79, 64)        28864     \n",
      "_________________________________________________________________\n",
      "max_pooling2d_1 (MaxPooling2 (None, 39, 39, 64)        0         \n",
      "_________________________________________________________________\n",
      "flatten (Flatten)            (None, 97344)             0         \n",
      "_________________________________________________________________\n",
      "dropout (Dropout)            (None, 97344)             0         \n",
      "_________________________________________________________________\n",
      "dense (Dense)                (None, 128)               12460160  \n",
      "_________________________________________________________________\n",
      "dropout_1 (Dropout)          (None, 128)               0         \n",
      "_________________________________________________________________\n",
      "dense_1 (Dense)              (None, 1)                 129       \n",
      "_________________________________________________________________\n",
      "activation (Activation)      (None, 1)                 0         \n",
      "=================================================================\n",
      "Total params: 12,489,605\n",
      "Trainable params: 12,489,605\n",
      "Non-trainable params: 0\n",
      "_________________________________________________________________\n",
      "None\n"
     ]
    }
   ],
   "source": [
    "try:  \n",
    "    with tf.device('/device:GPU:7'):\n",
    "        # specify the input size of the images\n",
    "        images = Input((train_x.shape[1], train_x.shape[2], 1,))\n",
    "        # a convolution layer of 32 filters of size 15x15 to extract features (valid padding)\n",
    "        x = Conv2D(2,kernel_size=(15,15),padding=\"valid\")(images)\n",
    "        # a maxpooling layer to down-sample features with pool size (2, 2)\n",
    "        x = MaxPool2D(pool_size=(2,2))(x)\n",
    "        #  # another convolution layer of 64 filters of size 11x11 to extract features (valid padding)\n",
    "        x = Conv2D(64,kernel_size=(15,15),padding=\"valid\")(x)\n",
    "        # # # a maxpooling layer to down-sample features with pool size (2, 2)\n",
    "        x = MaxPool2D(pool_size=(2,2))(x)\n",
    "        # flatten extracted features to form feature vector\n",
    "        x = Flatten()(x)\n",
    "        # a drop out layer for regularization (25% probability)\n",
    "        x = Dropout(rate=0.3,seed=0.25)(x)\n",
    "        # first fully-connected layer to map the features to vectors of size 256\n",
    "        x = Dense(128,activation=\"relu\")(x)\n",
    "        # anoter drop out layer for regularization (25% probability)\n",
    "        x = Dropout(rate=0.3,seed=0.25)(x)\n",
    "        # a second fully-connected layer to map the features to a logit vector with one logit per subject\n",
    "        x = Dense(1)(x)\n",
    "        # use softmax activation to convert the logits to class probabilities for each subject\n",
    "        predictions = Activation(\"sigmoid\")(x)\n",
    "\n",
    "        # create the model using the layers we defined previously\n",
    "        sample_cnn = Model(inputs=images, outputs=predictions)\n",
    "\n",
    "        # compile the model so that it uses Adam for optimization during training with cross-entropy loss\n",
    "        sample_cnn.compile(optimizer=SGD(), loss=\"binary_crossentropy\", metrics=[\"acc\"])\n",
    "\n",
    "        # print out a summary of the model achitecture\n",
    "        print(sample_cnn.summary())\n",
    "\n",
    "except RuntimeError as e:\n",
    "  print(e)"
   ]
  },
  {
   "cell_type": "code",
   "execution_count": 23,
   "metadata": {},
   "outputs": [
    {
     "name": "stdout",
     "output_type": "stream",
     "text": [
      "Epoch 1/16\n",
      "266/266 [==============================] - 30s 113ms/step - loss: 0.6100 - acc: 0.6640 - val_loss: 0.5626 - val_acc: 0.7083\n",
      "Epoch 2/16\n",
      "266/266 [==============================] - 30s 111ms/step - loss: 0.5474 - acc: 0.7228 - val_loss: 0.5163 - val_acc: 0.7466\n",
      "Epoch 3/16\n",
      "266/266 [==============================] - 30s 113ms/step - loss: 0.5091 - acc: 0.7518 - val_loss: 0.4926 - val_acc: 0.7621\n",
      "Epoch 4/16\n",
      "266/266 [==============================] - 31s 116ms/step - loss: 0.4803 - acc: 0.7719 - val_loss: 0.4617 - val_acc: 0.7814\n",
      "Epoch 5/16\n",
      "266/266 [==============================] - 31s 115ms/step - loss: 0.4529 - acc: 0.7904 - val_loss: 0.4434 - val_acc: 0.7902\n",
      "Epoch 6/16\n",
      "266/266 [==============================] - 37s 138ms/step - loss: 0.4301 - acc: 0.8048 - val_loss: 0.4256 - val_acc: 0.8038\n",
      "Epoch 7/16\n",
      "266/266 [==============================] - 32s 121ms/step - loss: 0.4099 - acc: 0.8145 - val_loss: 0.4057 - val_acc: 0.8190\n",
      "Epoch 8/16\n",
      "266/266 [==============================] - 29s 110ms/step - loss: 0.3922 - acc: 0.8256 - val_loss: 0.4002 - val_acc: 0.8181\n",
      "Epoch 9/16\n",
      "266/266 [==============================] - 30s 111ms/step - loss: 0.3741 - acc: 0.8340 - val_loss: 0.3957 - val_acc: 0.8191\n",
      "Epoch 10/16\n",
      "266/266 [==============================] - 29s 110ms/step - loss: 0.3555 - acc: 0.8442 - val_loss: 0.3822 - val_acc: 0.8302\n",
      "Epoch 11/16\n",
      "266/266 [==============================] - 30s 112ms/step - loss: 0.3366 - acc: 0.8551 - val_loss: 0.3775 - val_acc: 0.8316\n",
      "Epoch 12/16\n",
      "266/266 [==============================] - 29s 110ms/step - loss: 0.3236 - acc: 0.8620 - val_loss: 0.3778 - val_acc: 0.8322\n",
      "Epoch 13/16\n",
      "266/266 [==============================] - 29s 110ms/step - loss: 0.3071 - acc: 0.8698 - val_loss: 0.3708 - val_acc: 0.8350\n",
      "Epoch 14/16\n",
      "266/266 [==============================] - 29s 109ms/step - loss: 0.2911 - acc: 0.8787 - val_loss: 0.3682 - val_acc: 0.8395\n",
      "Epoch 15/16\n",
      "266/266 [==============================] - 31s 116ms/step - loss: 0.2758 - acc: 0.8851 - val_loss: 0.3654 - val_acc: 0.8427\n",
      "Epoch 16/16\n",
      "266/266 [==============================] - 31s 118ms/step - loss: 0.2628 - acc: 0.8903 - val_loss: 0.3707 - val_acc: 0.8408\n",
      "Time spent for training - 507.8759722709656\n"
     ]
    }
   ],
   "source": [
    "start = time.time()\n",
    "# class_weights = compute_class_weight(\"balanced\", np.unique(train_y), train_y)\n",
    "# class_weights = dict(enumerate(class_weights))\n",
    "try:  \n",
    "    with tf.device('/device:GPU:7'):\n",
    "        # train model\n",
    "        history = sample_cnn.fit(train_x, train_y, validation_data=(test_x, test_y), epochs=16, batch_size=150, verbose=1)\n",
    "except RuntimeError as e:\n",
    "  print(e)\n",
    "end = time.time()\n",
    "print(\"Time spent for training - {}\".format(end-start))"
   ]
  },
  {
   "cell_type": "code",
   "execution_count": 41,
   "metadata": {},
   "outputs": [
    {
     "name": "stdout",
     "output_type": "stream",
     "text": [
      "[[1.]\n",
      " [0.]\n",
      " [1.]\n",
      " ...\n",
      " [0.]\n",
      " [1.]\n",
      " [0.]]\n"
     ]
    }
   ],
   "source": [
    "try:  \n",
    "    with tf.device('/device:GPU:7'):\n",
    "        test_pred = sample_cnn.predict(test_x)\n",
    "        for i in test_pred:\n",
    "            if i[0] >= 0.5:\n",
    "                i[0] = 1\n",
    "            else:\n",
    "                i[0] = 0\n",
    "        print(test_pred)\n",
    "except RuntimeError as e:\n",
    "  print(e)"
   ]
  },
  {
   "cell_type": "code",
   "execution_count": 42,
   "metadata": {},
   "outputs": [
    {
     "data": {
      "text/plain": [
       "array([0., 0., 0., ..., 0., 0., 0.], dtype=float32)"
      ]
     },
     "execution_count": 42,
     "metadata": {},
     "output_type": "execute_result"
    }
   ],
   "source": [
    "test_pred[test_pred<0.5]"
   ]
  },
  {
   "cell_type": "code",
   "execution_count": 43,
   "metadata": {},
   "outputs": [
    {
     "name": "stdout",
     "output_type": "stream",
     "text": [
      "              precision    recall  f1-score   support\n",
      "\n",
      "         0.0       0.78      0.62      0.69      3204\n",
      "         1.0       0.88      0.94      0.91      9817\n",
      "\n",
      "    accuracy                           0.86     13021\n",
      "   macro avg       0.83      0.78      0.80     13021\n",
      "weighted avg       0.86      0.86      0.86     13021\n",
      "\n",
      "[[2000 1204]\n",
      " [ 578 9239]]\n"
     ]
    }
   ],
   "source": [
    "print(classification_report(test_y,test_pred))\n",
    "print(confusion_matrix(test_y,test_pred))"
   ]
  },
  {
   "cell_type": "code",
   "execution_count": 52,
   "metadata": {},
   "outputs": [
    {
     "data": {
      "text/plain": [
       "1.0"
      ]
     },
     "execution_count": 52,
     "metadata": {},
     "output_type": "execute_result"
    }
   ],
   "source": [
    "test_y[0]"
   ]
  },
  {
   "cell_type": "code",
   "execution_count": 30,
   "metadata": {},
   "outputs": [],
   "source": [
    "# for i in test_pred:\n",
    "#     if i[0] >= 0.5:\n",
    "#         i[0] = 1\n",
    "#     else:\n",
    "#         i[0] = 0\n",
    "# test_pred"
   ]
  },
  {
   "cell_type": "code",
   "execution_count": 44,
   "metadata": {},
   "outputs": [
    {
     "data": {
      "text/plain": [
       "dict_keys(['loss', 'acc', 'val_loss', 'val_acc'])"
      ]
     },
     "execution_count": 44,
     "metadata": {},
     "output_type": "execute_result"
    }
   ],
   "source": [
    "history.history.keys()"
   ]
  },
  {
   "cell_type": "code",
   "execution_count": 60,
   "metadata": {},
   "outputs": [
    {
     "data": {
      "image/png": "[encoded data removed]",
      "text/plain": [
       "<Figure size 432x288 with 1 Axes>"
      ]
     },
     "metadata": {
      "needs_background": "light"
     },
     "output_type": "display_data"
    },
    {
     "data": {
      "image/png": "[encoded data removed]",
      "text/plain": [
       "<Figure size 432x288 with 1 Axes>"
      ]
     },
     "metadata": {
      "needs_background": "light"
     },
     "output_type": "display_data"
    }
   ],
   "source": [
    "# summarize history for accuracy\n",
    "plt.plot(history.history['acc'])\n",
    "plt.plot(history.history['val_acc'])\n",
    "plt.title('model accuracy')\n",
    "plt.ylabel('accuracy')\n",
    "plt.xlabel('epoch')\n",
    "plt.legend(['train', 'test'], loc='center right')\n",
    "plt.show()\n",
    "# summarize history for loss\n",
    "plt.plot(history.history['loss'])\n",
    "plt.plot(history.history['val_loss'])\n",
    "plt.title('model loss')\n",
    "plt.ylabel('loss')\n",
    "plt.xlabel('epoch')\n",
    "plt.legend(['train', 'test'], loc='center right')\n",
    "plt.show()"
   ]
  },
  {
   "cell_type": "code",
   "execution_count": 63,
   "metadata": {},
   "outputs": [
    {
     "name": "stdout",
     "output_type": "stream",
     "text": [
      "WARNING:tensorflow:From /usr/local/lib/python3.8/dist-packages/tensorflow/python/training/tracking/tracking.py:111: Model.state_updates (from tensorflow.python.keras.engine.training) is deprecated and will be removed in a future version.\n",
      "Instructions for updating:\n",
      "This property should not be used in TensorFlow 2.0, as updates are applied automatically.\n",
      "WARNING:tensorflow:From /usr/local/lib/python3.8/dist-packages/tensorflow/python/training/tracking/tracking.py:111: Layer.updates (from tensorflow.python.keras.engine.base_layer) is deprecated and will be removed in a future version.\n",
      "Instructions for updating:\n",
      "This property should not be used in TensorFlow 2.0, as updates are applied automatically.\n",
      "INFO:tensorflow:Assets written to: Project/cnn1_model/assets\n"
     ]
    }
   ],
   "source": [
    "# sample_cnn.save(\"Project/cnn1_model\")"
   ]
  },
  {
   "cell_type": "code",
   "execution_count": 62,
   "metadata": {},
   "outputs": [
    {
     "data": {
      "text/plain": [
       "[0.024247154593467712,\n",
       " 0.02090921439230442,\n",
       " 0.01958106830716133,\n",
       " 0.01675521209836006,\n",
       " 0.018533067777752876,\n",
       " 0.015078432857990265,\n",
       " 0.01690850220620632,\n",
       " 0.012490777298808098,\n",
       " 0.014173967763781548,\n",
       " 0.013455744832754135,\n",
       " 0.012620748952031136,\n",
       " 0.012086116708815098,\n",
       " 0.01181858591735363,\n",
       " 0.013544703833758831,\n",
       " 0.012731815688312054,\n",
       " 0.012506506405770779]"
      ]
     },
     "execution_count": 62,
     "metadata": {},
     "output_type": "execute_result"
    }
   ],
   "source": [
    "history.history['loss']"
   ]
  },
  {
   "cell_type": "markdown",
   "metadata": {},
   "source": [
    "## model 2"
   ]
  },
  {
   "cell_type": "code",
   "execution_count": 63,
   "metadata": {
    "collapsed": true
   },
   "outputs": [
    {
     "name": "stdout",
     "output_type": "stream",
     "text": [
      "Model: \"model_3\"\n",
      "_________________________________________________________________\n",
      "Layer (type)                 Output Shape              Param #   \n",
      "=================================================================\n",
      "input_4 (InputLayer)         [(None, 200, 200, 1)]     0         \n",
      "_________________________________________________________________\n",
      "conv2d_6 (Conv2D)            (None, 186, 186, 32)      7232      \n",
      "_________________________________________________________________\n",
      "max_pooling2d_6 (MaxPooling2 (None, 93, 93, 32)        0         \n",
      "_________________________________________________________________\n",
      "conv2d_7 (Conv2D)            (None, 79, 79, 64)        460864    \n",
      "_________________________________________________________________\n",
      "max_pooling2d_7 (MaxPooling2 (None, 39, 39, 64)        0         \n",
      "_________________________________________________________________\n",
      "flatten_3 (Flatten)          (None, 97344)             0         \n",
      "_________________________________________________________________\n",
      "dropout_6 (Dropout)          (None, 97344)             0         \n",
      "_________________________________________________________________\n",
      "dense_6 (Dense)              (None, 128)               12460160  \n",
      "_________________________________________________________________\n",
      "dropout_7 (Dropout)          (None, 128)               0         \n",
      "_________________________________________________________________\n",
      "dense_7 (Dense)              (None, 1)                 129       \n",
      "_________________________________________________________________\n",
      "activation_3 (Activation)    (None, 1)                 0         \n",
      "=================================================================\n",
      "Total params: 12,928,385\n",
      "Trainable params: 12,928,385\n",
      "Non-trainable params: 0\n",
      "_________________________________________________________________\n",
      "None\n"
     ]
    }
   ],
   "source": [
    "try:  \n",
    "    with tf.device('/device:GPU:7'):\n",
    "        # specify the input size of the images\n",
    "        images = Input((train_x.shape[1], train_x.shape[2], 1,))\n",
    "        # a convolution layer of 32 filters of size 9x9 to extract features (valid padding)\n",
    "        x = Conv2D(32,kernel_size=(15,15),padding=\"valid\")(images)\n",
    "        # a maxpooling layer to down-sample features with pool size (2, 2)\n",
    "        x = MaxPool2D(pool_size=(2,2))(x)\n",
    "        #  # another convolution layer of 64 filters of size 11x11 to extract features (valid padding)\n",
    "        x = Conv2D(64,kernel_size=(15,15),padding=\"valid\")(x)\n",
    "        # # # a maxpooling layer to down-sample features with pool size (2, 2)\n",
    "        x = MaxPool2D(pool_size=(2,2))(x)\n",
    "        # flatten extracted features to form feature vector\n",
    "        x = Flatten()(x)\n",
    "        # a drop out layer for regularization (25% probability)\n",
    "        x = Dropout(rate=0.3,seed=0.25)(x)\n",
    "        # first fully-connected layer to map the features to vectors of size 256\n",
    "        x = Dense(128,activation=\"relu\")(x)\n",
    "        # anoter drop out layer for regularization (25% probability)\n",
    "        x = Dropout(rate=0.3,seed=0.25)(x)\n",
    "        # a second fully-connected layer to map the features to a logit vector with one logit per subject\n",
    "        x = Dense(1)(x)\n",
    "        # use softmax activation to convert the logits to class probabilities for each subject\n",
    "        predictions = Activation(\"sigmoid\")(x)\n",
    "\n",
    "        # create the model using the layers we defined previously\n",
    "        sample_cnn_2 = Model(inputs=images, outputs=predictions)\n",
    "\n",
    "        # compile the model so that it uses Adam for optimization during training with cross-entropy loss\n",
    "        sample_cnn_2.compile(optimizer=SGD(), loss=\"binary_crossentropy\", metrics=[\"acc\"])\n",
    "\n",
    "        # print out a summary of the model achitecture\n",
    "        print(sample_cnn_2.summary())\n",
    "\n",
    "except RuntimeError as e:\n",
    "  print(e)"
   ]
  },
  {
   "cell_type": "code",
   "execution_count": 64,
   "metadata": {
    "collapsed": true
   },
   "outputs": [
    {
     "name": "stdout",
     "output_type": "stream",
     "text": [
      "Epoch 1/16\n",
      "177/177 [==============================] - 39s 222ms/step - loss: 0.5467 - acc: 0.7605 - val_loss: 0.5134 - val_acc: 0.7785\n",
      "Epoch 2/16\n",
      "177/177 [==============================] - 38s 215ms/step - loss: 0.5059 - acc: 0.7799 - val_loss: 0.5036 - val_acc: 0.7845\n",
      "Epoch 3/16\n",
      "177/177 [==============================] - 38s 216ms/step - loss: 0.4807 - acc: 0.7867 - val_loss: 0.4607 - val_acc: 0.7933\n",
      "Epoch 4/16\n",
      "177/177 [==============================] - 38s 217ms/step - loss: 0.4625 - acc: 0.7939 - val_loss: 0.4690 - val_acc: 0.7920\n",
      "Epoch 5/16\n",
      "177/177 [==============================] - 39s 218ms/step - loss: 0.4465 - acc: 0.8014 - val_loss: 0.5682 - val_acc: 0.7724\n",
      "Epoch 6/16\n",
      "177/177 [==============================] - 38s 214ms/step - loss: 0.4331 - acc: 0.8088 - val_loss: 0.4328 - val_acc: 0.8088\n",
      "Epoch 7/16\n",
      "177/177 [==============================] - 38s 214ms/step - loss: 0.4183 - acc: 0.8186 - val_loss: 0.4237 - val_acc: 0.8102\n",
      "Epoch 8/16\n",
      "177/177 [==============================] - 38s 215ms/step - loss: 0.4055 - acc: 0.8255 - val_loss: 0.4055 - val_acc: 0.8222\n",
      "Epoch 9/16\n",
      "177/177 [==============================] - 38s 217ms/step - loss: 0.3946 - acc: 0.8307 - val_loss: 0.4014 - val_acc: 0.8250\n",
      "Epoch 10/16\n",
      "177/177 [==============================] - 38s 216ms/step - loss: 0.3770 - acc: 0.8391 - val_loss: 0.4187 - val_acc: 0.8105\n",
      "Epoch 11/16\n",
      "177/177 [==============================] - 38s 216ms/step - loss: 0.3619 - acc: 0.8463 - val_loss: 0.3874 - val_acc: 0.8356\n",
      "Epoch 12/16\n",
      "177/177 [==============================] - 38s 216ms/step - loss: 0.3450 - acc: 0.8555 - val_loss: 0.3862 - val_acc: 0.8361\n",
      "Epoch 13/16\n",
      "177/177 [==============================] - 38s 216ms/step - loss: 0.3324 - acc: 0.8611 - val_loss: 0.3686 - val_acc: 0.8482\n",
      "Epoch 14/16\n",
      "177/177 [==============================] - 39s 222ms/step - loss: 0.3167 - acc: 0.8713 - val_loss: 0.3608 - val_acc: 0.8519\n",
      "Epoch 15/16\n",
      "177/177 [==============================] - 38s 216ms/step - loss: 0.3008 - acc: 0.8765 - val_loss: 0.3762 - val_acc: 0.8454\n",
      "Epoch 16/16\n",
      "177/177 [==============================] - 38s 215ms/step - loss: 0.2851 - acc: 0.8856 - val_loss: 0.3578 - val_acc: 0.8561\n",
      "Time spent for training - 625.0604000091553\n"
     ]
    }
   ],
   "source": [
    "start = time.time()\n",
    "# class_weights = compute_class_weight(\"balanced\", np.unique(train_y), train_y)\n",
    "# class_weights = dict(enumerate(class_weights))\n",
    "try:  \n",
    "    with tf.device('/device:GPU:7'):\n",
    "        # train model\n",
    "        history = sample_cnn_2.fit(train_x, train_y, validation_data=(test_x, test_y), epochs=16, batch_size=150, verbose=1)\n",
    "except RuntimeError as e:\n",
    "  print(e)\n",
    "end = time.time()\n",
    "print(\"Time spent for training - {}\".format(end-start))"
   ]
  },
  {
   "cell_type": "code",
   "execution_count": 70,
   "metadata": {
    "collapsed": true
   },
   "outputs": [
    {
     "name": "stdout",
     "output_type": "stream",
     "text": [
      "              precision    recall  f1-score   support\n",
      "\n",
      "         0.0       0.78      0.58      0.66      3204\n",
      "         1.0       0.87      0.95      0.91      9817\n",
      "\n",
      "    accuracy                           0.86     13021\n",
      "   macro avg       0.83      0.76      0.79     13021\n",
      "weighted avg       0.85      0.86      0.85     13021\n",
      "\n",
      "[[1855 1349]\n",
      " [ 525 9292]]\n",
      "[[2000 1204]\n",
      " [ 578 9239]]\n"
     ]
    }
   ],
   "source": [
    "with tf.device('/device:GPU:7'):\n",
    "    test_pred_2 = sample_cnn_2.predict(test_x)\n",
    "    test_pred_2 = sample_cnn_2.predict(test_x)\n",
    "    for i in test_pred_2:\n",
    "        if i[0] >= 0.5:\n",
    "            i[0] = 1\n",
    "        else:\n",
    "            i[0] = 0\n",
    "    print(classification_report(test_y,test_pred_2))\n",
    "    print(confusion_matrix(test_y,test_pred_2))   \n",
    "    print(confusion_matrix(test_y,test_pred))"
   ]
  },
  {
   "cell_type": "markdown",
   "metadata": {},
   "source": [
    "## Model using 59455 images for training"
   ]
  },
  {
   "cell_type": "code",
   "execution_count": 26,
   "metadata": {
    "collapsed": true
   },
   "outputs": [
    {
     "name": "stdout",
     "output_type": "stream",
     "text": [
      "Model: \"model_1\"\n",
      "_________________________________________________________________\n",
      "Layer (type)                 Output Shape              Param #   \n",
      "=================================================================\n",
      "input_2 (InputLayer)         [(None, 200, 200, 1)]     0         \n",
      "_________________________________________________________________\n",
      "conv2d_2 (Conv2D)            (None, 186, 186, 32)      7232      \n",
      "_________________________________________________________________\n",
      "max_pooling2d_2 (MaxPooling2 (None, 93, 93, 32)        0         \n",
      "_________________________________________________________________\n",
      "conv2d_3 (Conv2D)            (None, 79, 79, 64)        460864    \n",
      "_________________________________________________________________\n",
      "max_pooling2d_3 (MaxPooling2 (None, 39, 39, 64)        0         \n",
      "_________________________________________________________________\n",
      "flatten_1 (Flatten)          (None, 97344)             0         \n",
      "_________________________________________________________________\n",
      "dropout_2 (Dropout)          (None, 97344)             0         \n",
      "_________________________________________________________________\n",
      "dense_2 (Dense)              (None, 128)               12460160  \n",
      "_________________________________________________________________\n",
      "dropout_3 (Dropout)          (None, 128)               0         \n",
      "_________________________________________________________________\n",
      "dense_3 (Dense)              (None, 1)                 129       \n",
      "_________________________________________________________________\n",
      "activation_1 (Activation)    (None, 1)                 0         \n",
      "=================================================================\n",
      "Total params: 12,928,385\n",
      "Trainable params: 12,928,385\n",
      "Non-trainable params: 0\n",
      "_________________________________________________________________\n",
      "None\n"
     ]
    }
   ],
   "source": [
    "try:  \n",
    "    with tf.device('/device:GPU:6'):\n",
    "        # specify the input size of the images\n",
    "        images = Input((train_x.shape[1], train_x.shape[2], 1,))\n",
    "        # a convolution layer of 32 filters of size 15x15 to extract features (valid padding)\n",
    "        x = Conv2D(32,kernel_size=(15,15),padding=\"valid\")(images)\n",
    "        # a maxpooling layer to down-sample features with pool size (2, 2)\n",
    "        x = MaxPool2D(pool_size=(2,2))(x)\n",
    "        #  # another convolution layer of 64 filters of size 11x11 to extract features (valid padding)\n",
    "        x = Conv2D(64,kernel_size=(15,15),padding=\"valid\")(x)\n",
    "        # # # a maxpooling layer to down-sample features with pool size (2, 2)\n",
    "        x = MaxPool2D(pool_size=(2,2))(x)\n",
    "        # flatten extracted features to form feature vector\n",
    "        x = Flatten()(x)\n",
    "        # a drop out layer for regularization (25% probability)\n",
    "        x = Dropout(rate=0.3,seed=0.25)(x)\n",
    "        # first fully-connected layer to map the features to vectors of size 256\n",
    "        x = Dense(128,activation=\"relu\")(x)\n",
    "        # anoter drop out layer for regularization (25% probability)\n",
    "        x = Dropout(rate=0.3,seed=0.25)(x)\n",
    "        # a second fully-connected layer to map the features to a logit vector with one logit per subject\n",
    "        x = Dense(1)(x)\n",
    "        # use softmax activation to convert the logits to class probabilities for each subject\n",
    "        predictions = Activation(\"sigmoid\")(x)\n",
    "\n",
    "        # create the model using the layers we defined previously\n",
    "        sample_cnn_3 = Model(inputs=images, outputs=predictions)\n",
    "\n",
    "        # compile the model so that it uses Adam for optimization during training with cross-entropy loss\n",
    "        sample_cnn_3.compile(optimizer=SGD(), loss=\"binary_crossentropy\", metrics=[\"acc\"])\n",
    "\n",
    "        # print out a summary of the model achitecture\n",
    "        print(sample_cnn_3.summary())\n",
    "\n",
    "except RuntimeError as e:\n",
    "  print(e)"
   ]
  },
  {
   "cell_type": "code",
   "execution_count": 28,
   "metadata": {
    "scrolled": true
   },
   "outputs": [
    {
     "name": "stdout",
     "output_type": "stream",
     "text": [
      "Epoch 1/16\n",
      "266/266 [==============================] - 59s 222ms/step - loss: 0.2456 - acc: 0.8985 - val_loss: 0.3662 - val_acc: 0.8438\n",
      "Epoch 2/16\n",
      "266/266 [==============================] - 69s 260ms/step - loss: 0.2308 - acc: 0.9053 - val_loss: 0.3739 - val_acc: 0.8446\n",
      "Epoch 3/16\n",
      "266/266 [==============================] - 69s 258ms/step - loss: 0.2178 - acc: 0.9100 - val_loss: 0.3738 - val_acc: 0.8499\n",
      "Epoch 4/16\n",
      "266/266 [==============================] - 59s 222ms/step - loss: 0.2045 - acc: 0.9153 - val_loss: 0.3845 - val_acc: 0.8488\n",
      "Epoch 5/16\n",
      "266/266 [==============================] - 58s 218ms/step - loss: 0.1963 - acc: 0.9208 - val_loss: 0.3862 - val_acc: 0.8474\n",
      "Epoch 6/16\n",
      "266/266 [==============================] - 60s 226ms/step - loss: 0.1875 - acc: 0.9243 - val_loss: 0.4006 - val_acc: 0.8489\n",
      "Epoch 7/16\n",
      "266/266 [==============================] - 58s 217ms/step - loss: 0.1748 - acc: 0.9297 - val_loss: 0.4006 - val_acc: 0.8481\n",
      "Epoch 8/16\n",
      "266/266 [==============================] - 58s 216ms/step - loss: 0.1642 - acc: 0.9341 - val_loss: 0.4083 - val_acc: 0.8478\n",
      "Epoch 9/16\n",
      "266/266 [==============================] - 58s 217ms/step - loss: 0.1541 - acc: 0.9402 - val_loss: 0.4153 - val_acc: 0.8472\n",
      "Epoch 10/16\n",
      "266/266 [==============================] - 58s 216ms/step - loss: 0.1482 - acc: 0.9419 - val_loss: 0.4182 - val_acc: 0.8475\n",
      "Epoch 11/16\n",
      "266/266 [==============================] - 58s 217ms/step - loss: 0.1409 - acc: 0.9453 - val_loss: 0.4222 - val_acc: 0.8501\n",
      "Epoch 12/16\n",
      "266/266 [==============================] - 58s 217ms/step - loss: 0.1306 - acc: 0.9509 - val_loss: 0.4203 - val_acc: 0.8473\n",
      "Epoch 13/16\n",
      "266/266 [==============================] - 58s 218ms/step - loss: 0.1256 - acc: 0.9521 - val_loss: 0.4415 - val_acc: 0.8449\n",
      "Epoch 14/16\n",
      "266/266 [==============================] - 58s 217ms/step - loss: 0.1203 - acc: 0.9528 - val_loss: 0.4447 - val_acc: 0.8462\n",
      "Epoch 15/16\n",
      "266/266 [==============================] - 59s 223ms/step - loss: 0.1137 - acc: 0.9571 - val_loss: 0.4641 - val_acc: 0.8514\n",
      "Epoch 16/16\n",
      "266/266 [==============================] - 58s 217ms/step - loss: 0.1075 - acc: 0.9590 - val_loss: 0.4724 - val_acc: 0.8477\n",
      "Time spent for training - 973.8131902217865\n"
     ]
    }
   ],
   "source": [
    "start = time.time()\n",
    "#class_weights = compute_class_weight(\"balanced\", np.unique(train_y), train_y)\n",
    "#class_weights = dict(enumerate(class_weights))\n",
    "try:  \n",
    "    with tf.device('/device:GPU:6'):\n",
    "        # train model\n",
    "        history = sample_cnn_3.fit(train_x, train_y, validation_data=(test_x, test_y), epochs=16, batch_size=150, verbose=1)\n",
    "except RuntimeError as e:\n",
    "  print(e)\n",
    "end = time.time()\n",
    "print(\"Time spent for training - {}\".format(end-start))"
   ]
  },
  {
   "cell_type": "markdown",
   "metadata": {},
   "source": [
    "## online"
   ]
  },
  {
   "cell_type": "code",
   "execution_count": 20,
   "metadata": {},
   "outputs": [],
   "source": [
    "classes = 2\n",
    "chanDim = -1"
   ]
  },
  {
   "cell_type": "code",
   "execution_count": 31,
   "metadata": {},
   "outputs": [
    {
     "name": "stdout",
     "output_type": "stream",
     "text": [
      "Model: \"model_3\"\n",
      "_________________________________________________________________\n",
      "Layer (type)                 Output Shape              Param #   \n",
      "=================================================================\n",
      "input_10 (InputLayer)        [(None, 200, 200, 1)]     0         \n",
      "_________________________________________________________________\n",
      "conv2d_25 (Conv2D)           (None, 200, 200, 32)      320       \n",
      "_________________________________________________________________\n",
      "activation_32 (Activation)   (None, 200, 200, 32)      0         \n",
      "_________________________________________________________________\n",
      "batch_normalization_28 (Batc (None, 200, 200, 32)      128       \n",
      "_________________________________________________________________\n",
      "max_pooling2d_15 (MaxPooling (None, 66, 66, 32)        0         \n",
      "_________________________________________________________________\n",
      "dropout_16 (Dropout)         (None, 66, 66, 32)        0         \n",
      "_________________________________________________________________\n",
      "conv2d_26 (Conv2D)           (None, 66, 66, 64)        18496     \n",
      "_________________________________________________________________\n",
      "activation_33 (Activation)   (None, 66, 66, 64)        0         \n",
      "_________________________________________________________________\n",
      "batch_normalization_29 (Batc (None, 66, 66, 64)        256       \n",
      "_________________________________________________________________\n",
      "conv2d_27 (Conv2D)           (None, 66, 66, 64)        36928     \n",
      "_________________________________________________________________\n",
      "activation_34 (Activation)   (None, 66, 66, 64)        0         \n",
      "_________________________________________________________________\n",
      "batch_normalization_30 (Batc (None, 66, 66, 64)        256       \n",
      "_________________________________________________________________\n",
      "max_pooling2d_16 (MaxPooling (None, 33, 33, 64)        0         \n",
      "_________________________________________________________________\n",
      "dropout_17 (Dropout)         (None, 33, 33, 64)        0         \n",
      "_________________________________________________________________\n",
      "conv2d_28 (Conv2D)           (None, 33, 33, 128)       73856     \n",
      "_________________________________________________________________\n",
      "activation_35 (Activation)   (None, 33, 33, 128)       0         \n",
      "_________________________________________________________________\n",
      "batch_normalization_31 (Batc (None, 33, 33, 128)       512       \n",
      "_________________________________________________________________\n",
      "conv2d_29 (Conv2D)           (None, 33, 33, 128)       147584    \n",
      "_________________________________________________________________\n",
      "activation_36 (Activation)   (None, 33, 33, 128)       0         \n",
      "_________________________________________________________________\n",
      "batch_normalization_32 (Batc (None, 33, 33, 128)       512       \n",
      "_________________________________________________________________\n",
      "max_pooling2d_17 (MaxPooling (None, 16, 16, 128)       0         \n",
      "_________________________________________________________________\n",
      "dropout_18 (Dropout)         (None, 16, 16, 128)       0         \n",
      "_________________________________________________________________\n",
      "flatten_4 (Flatten)          (None, 32768)             0         \n",
      "_________________________________________________________________\n",
      "dense_7 (Dense)              (None, 1024)              33555456  \n",
      "_________________________________________________________________\n",
      "activation_37 (Activation)   (None, 1024)              0         \n",
      "_________________________________________________________________\n",
      "batch_normalization_33 (Batc (None, 1024)              4096      \n",
      "_________________________________________________________________\n",
      "dropout_19 (Dropout)         (None, 1024)              0         \n",
      "_________________________________________________________________\n",
      "dense_8 (Dense)              (None, 1)                 1025      \n",
      "_________________________________________________________________\n",
      "activation_38 (Activation)   (None, 1)                 0         \n",
      "=================================================================\n",
      "Total params: 33,839,425\n",
      "Trainable params: 33,836,545\n",
      "Non-trainable params: 2,880\n",
      "_________________________________________________________________\n",
      "None\n"
     ]
    }
   ],
   "source": [
    "try:  \n",
    "    with tf.device('/device:GPU:7'):\n",
    "        # specify the input size of the images\n",
    "        images = Input((train_x.shape[1], train_x.shape[2], 1,))\n",
    "        x = Conv2D(32,kernel_size=(3,3),padding=\"same\")(images)\n",
    "\n",
    "        x = Activation(\"relu\")(x)\n",
    "\n",
    "        x= BatchNormalization(axis=chanDim)(x)\n",
    "        x= MaxPool2D(pool_size=(3,3))(x)\n",
    "        x= Dropout(0.25)(x)\n",
    "\n",
    "        x= Conv2D(64, (3,3), padding=\"same\")(x)\n",
    "        x= Activation(\"relu\")(x)\n",
    "        x= BatchNormalization(axis=chanDim)(x)\n",
    "        x= Conv2D(64, (3,3), padding=\"same\")(x)\n",
    "        x= Activation(\"relu\")(x)\n",
    "        x= BatchNormalization(axis=chanDim)(x)\n",
    "        x= MaxPool2D(pool_size=(2,2))(x)\n",
    "        x= Dropout(0.25)(x)\n",
    "\n",
    "        x= Conv2D(128, (3,3), padding=\"same\")(x)\n",
    "        x= Activation(\"relu\")(x)\n",
    "        x= BatchNormalization(axis=chanDim)(x)\n",
    "\n",
    "        x= Conv2D(128, (3,3), padding=\"same\")(x)\n",
    "        x= Activation(\"relu\")(x)\n",
    "        x= BatchNormalization(axis=chanDim)(x)\n",
    "        x= MaxPool2D(pool_size=(2,2))(x)\n",
    "        x= Dropout(0.25)(x)\n",
    "\n",
    "        x= Flatten()(x)\n",
    "        x= Dense(1024)(x)\n",
    "        x= Activation(\"relu\")(x)\n",
    "        x= BatchNormalization(axis=chanDim)(x)\n",
    "        x= Dropout(0.5)(x)\n",
    "\n",
    "        x= Dense(1)(x)\n",
    "        \n",
    "        predictions = Activation(\"sigmoid\")(x)\n",
    "\n",
    "        # create the model using the layers we defined previously\n",
    "        model_online = Model(inputs=images, outputs=predictions)\n",
    "\n",
    "        # compile the model so that it uses Adam for optimization during training with cross-entropy loss\n",
    "        model_online.compile(optimizer=Adam(), loss=\"binary_crossentropy\", metrics=[\"acc\"])\n",
    "\n",
    "        # print out a summary of the model achitecture\n",
    "        print(model_online.summary())\n",
    "\n",
    "except RuntimeError as e:\n",
    "  print(e)"
   ]
  },
  {
   "cell_type": "code",
   "execution_count": 32,
   "metadata": {
    "scrolled": true
   },
   "outputs": [
    {
     "name": "stdout",
     "output_type": "stream",
     "text": [
      "Epoch 1/40\n",
      "399/399 [==============================] - 80s 201ms/step - loss: 0.4635 - acc: 0.7977 - val_loss: 0.5490 - val_acc: 0.7134\n",
      "Epoch 2/40\n",
      "399/399 [==============================] - 80s 201ms/step - loss: 0.2913 - acc: 0.8772 - val_loss: 0.3076 - val_acc: 0.8787\n",
      "Epoch 3/40\n",
      "399/399 [==============================] - 79s 199ms/step - loss: 0.2617 - acc: 0.8914 - val_loss: 0.3530 - val_acc: 0.8685\n",
      "Epoch 4/40\n",
      "399/399 [==============================] - 79s 198ms/step - loss: 0.2391 - acc: 0.9019 - val_loss: 0.3235 - val_acc: 0.8722\n",
      "Epoch 5/40\n",
      "399/399 [==============================] - 80s 200ms/step - loss: 0.2078 - acc: 0.9158 - val_loss: 0.3932 - val_acc: 0.8256\n",
      "Epoch 6/40\n",
      "399/399 [==============================] - 79s 198ms/step - loss: 0.1825 - acc: 0.9261 - val_loss: 0.2833 - val_acc: 0.8782\n",
      "Epoch 7/40\n",
      "399/399 [==============================] - 78s 197ms/step - loss: 0.1712 - acc: 0.9304 - val_loss: 0.2096 - val_acc: 0.9167\n",
      "Epoch 8/40\n",
      "399/399 [==============================] - 79s 197ms/step - loss: 0.1458 - acc: 0.9429 - val_loss: 0.2346 - val_acc: 0.9125\n",
      "Epoch 9/40\n",
      "399/399 [==============================] - 79s 198ms/step - loss: 0.1316 - acc: 0.9480 - val_loss: 0.2541 - val_acc: 0.9005\n",
      "Epoch 10/40\n",
      "399/399 [==============================] - 80s 200ms/step - loss: 0.1241 - acc: 0.9515 - val_loss: 0.4038 - val_acc: 0.8422\n",
      "Epoch 11/40\n",
      "399/399 [==============================] - 79s 198ms/step - loss: 0.1393 - acc: 0.9462 - val_loss: 0.2292 - val_acc: 0.9163\n",
      "Epoch 12/40\n",
      "399/399 [==============================] - 78s 196ms/step - loss: 0.0979 - acc: 0.9626 - val_loss: 0.3419 - val_acc: 0.8801\n",
      "Epoch 13/40\n",
      "399/399 [==============================] - 79s 198ms/step - loss: 0.1032 - acc: 0.9612 - val_loss: 0.2381 - val_acc: 0.9165\n",
      "Epoch 14/40\n",
      "399/399 [==============================] - 79s 197ms/step - loss: 0.0814 - acc: 0.9702 - val_loss: 0.4835 - val_acc: 0.8511\n",
      "Epoch 15/40\n",
      "399/399 [==============================] - 77s 194ms/step - loss: 0.0658 - acc: 0.9759 - val_loss: 0.2742 - val_acc: 0.9146\n",
      "Epoch 16/40\n",
      "399/399 [==============================] - 78s 196ms/step - loss: 0.0484 - acc: 0.9828 - val_loss: 0.2545 - val_acc: 0.9263\n",
      "Epoch 17/40\n",
      "399/399 [==============================] - 78s 196ms/step - loss: 0.0439 - acc: 0.9845 - val_loss: 0.2842 - val_acc: 0.9168\n",
      "Epoch 18/40\n",
      "399/399 [==============================] - 78s 195ms/step - loss: 0.0864 - acc: 0.9684 - val_loss: 0.2973 - val_acc: 0.9163\n",
      "Epoch 19/40\n",
      "399/399 [==============================] - 78s 195ms/step - loss: 0.0801 - acc: 0.9712 - val_loss: 0.5019 - val_acc: 0.8704\n",
      "Epoch 20/40\n",
      "399/399 [==============================] - 79s 198ms/step - loss: 0.0594 - acc: 0.9784 - val_loss: 0.2910 - val_acc: 0.9158\n",
      "Epoch 21/40\n",
      "399/399 [==============================] - 78s 196ms/step - loss: 0.0420 - acc: 0.9851 - val_loss: 0.2822 - val_acc: 0.9229\n",
      "Epoch 22/40\n",
      "399/399 [==============================] - 78s 196ms/step - loss: 0.0450 - acc: 0.9842 - val_loss: 0.3025 - val_acc: 0.9202\n",
      "Epoch 23/40\n",
      "399/399 [==============================] - 78s 195ms/step - loss: 0.0375 - acc: 0.9864 - val_loss: 0.2880 - val_acc: 0.9227\n",
      "Epoch 24/40\n",
      "399/399 [==============================] - 78s 196ms/step - loss: 0.0262 - acc: 0.9908 - val_loss: 0.3214 - val_acc: 0.9195\n",
      "Epoch 25/40\n",
      "399/399 [==============================] - 78s 195ms/step - loss: 0.0289 - acc: 0.9907 - val_loss: 0.3745 - val_acc: 0.9068\n",
      "Epoch 26/40\n",
      "399/399 [==============================] - 78s 194ms/step - loss: 0.0426 - acc: 0.9850 - val_loss: 0.2884 - val_acc: 0.9205\n",
      "Epoch 27/40\n",
      "399/399 [==============================] - 78s 195ms/step - loss: 0.0232 - acc: 0.9922 - val_loss: 0.3276 - val_acc: 0.9230\n",
      "Epoch 28/40\n",
      "399/399 [==============================] - 78s 194ms/step - loss: 0.0433 - acc: 0.9851 - val_loss: 0.3148 - val_acc: 0.9189\n",
      "Epoch 29/40\n",
      "399/399 [==============================] - 79s 197ms/step - loss: 0.0347 - acc: 0.9877 - val_loss: 0.3051 - val_acc: 0.9231\n",
      "Epoch 30/40\n",
      "399/399 [==============================] - 79s 198ms/step - loss: 0.0261 - acc: 0.9914 - val_loss: 0.3378 - val_acc: 0.9221\n",
      "Epoch 31/40\n",
      "399/399 [==============================] - 77s 194ms/step - loss: 0.0188 - acc: 0.9941 - val_loss: 0.3173 - val_acc: 0.9259\n",
      "Epoch 32/40\n",
      "399/399 [==============================] - 78s 195ms/step - loss: 0.0176 - acc: 0.9946 - val_loss: 0.3419 - val_acc: 0.9169\n",
      "Epoch 33/40\n",
      "399/399 [==============================] - 77s 194ms/step - loss: 0.0371 - acc: 0.9868 - val_loss: 0.4735 - val_acc: 0.8934\n",
      "Epoch 34/40\n",
      "399/399 [==============================] - 77s 194ms/step - loss: 0.0562 - acc: 0.9810 - val_loss: 0.3177 - val_acc: 0.8952\n",
      "Epoch 35/40\n",
      "399/399 [==============================] - 78s 194ms/step - loss: 0.0478 - acc: 0.9837 - val_loss: 0.3128 - val_acc: 0.9198\n",
      "Epoch 36/40\n",
      "399/399 [==============================] - 78s 194ms/step - loss: 0.0300 - acc: 0.9896 - val_loss: 0.4126 - val_acc: 0.8898\n",
      "Epoch 37/40\n",
      "399/399 [==============================] - 78s 195ms/step - loss: 0.0242 - acc: 0.9921 - val_loss: 0.3231 - val_acc: 0.9211\n",
      "Epoch 38/40\n",
      "399/399 [==============================] - 79s 198ms/step - loss: 0.0312 - acc: 0.9894 - val_loss: 0.4091 - val_acc: 0.9087\n",
      "Epoch 39/40\n",
      "399/399 [==============================] - 78s 196ms/step - loss: 0.0275 - acc: 0.9911 - val_loss: 0.3378 - val_acc: 0.9230\n",
      "Epoch 40/40\n",
      "399/399 [==============================] - 78s 195ms/step - loss: 0.0326 - acc: 0.9887 - val_loss: 0.3228 - val_acc: 0.9191\n",
      "Time spent for training - 3165.3395943641663\n"
     ]
    }
   ],
   "source": [
    "start = time.time()\n",
    "#class_weights = compute_class_weight(\"balanced\", np.unique(train_y), train_y)\n",
    "#class_weights = dict(enumerate(class_weights))\n",
    "try:  \n",
    "    with tf.device('/device:GPU:6'):\n",
    "        # train model\n",
    "        history = model_online.fit(train_x, train_y, validation_data=(test_x, test_y), epochs=40, batch_size=100, verbose=1)\n",
    "except RuntimeError as e:\n",
    "  print(e)\n",
    "end = time.time()\n",
    "print(\"Time spent for training - {}\".format(end-start))"
   ]
  },
  {
   "cell_type": "code",
   "execution_count": 33,
   "metadata": {},
   "outputs": [
    {
     "name": "stdout",
     "output_type": "stream",
     "text": [
      "[[0.]\n",
      " [0.]\n",
      " [0.]\n",
      " ...\n",
      " [0.]\n",
      " [1.]\n",
      " [1.]]\n"
     ]
    }
   ],
   "source": [
    "try:  \n",
    "    with tf.device('/device:GPU:7'):\n",
    "        test_pred = model_online.predict(test_x)\n",
    "        for i in test_pred:\n",
    "            if i[0] >= 0.5:\n",
    "                i[0] = 1\n",
    "            else:\n",
    "                i[0] = 0\n",
    "        print(test_pred)\n",
    "except RuntimeError as e:\n",
    "  print(e)"
   ]
  },
  {
   "cell_type": "code",
   "execution_count": 42,
   "metadata": {},
   "outputs": [
    {
     "data": {
      "text/plain": [
       "array([0., 0., 0., ..., 0., 0., 0.], dtype=float32)"
      ]
     },
     "execution_count": 42,
     "metadata": {},
     "output_type": "execute_result"
    }
   ],
   "source": [
    "test_pred[test_pred<0.5]"
   ]
  },
  {
   "cell_type": "code",
   "execution_count": 34,
   "metadata": {},
   "outputs": [
    {
     "name": "stdout",
     "output_type": "stream",
     "text": [
      "              precision    recall  f1-score   support\n",
      "\n",
      "         0.0       0.92      0.92      0.92      9790\n",
      "         1.0       0.92      0.92      0.92      9831\n",
      "\n",
      "    accuracy                           0.92     19621\n",
      "   macro avg       0.92      0.92      0.92     19621\n",
      "weighted avg       0.92      0.92      0.92     19621\n",
      "\n",
      "[[8958  832]\n",
      " [ 756 9075]]\n"
     ]
    }
   ],
   "source": [
    "print(classification_report(test_y,test_pred))\n",
    "print(confusion_matrix(test_y,test_pred))"
   ]
  },
  {
   "cell_type": "code",
   "execution_count": 54,
   "metadata": {},
   "outputs": [],
   "source": [
    "model_online.save('models/new_model.h5')"
   ]
  },
  {
   "cell_type": "markdown",
   "metadata": {},
   "source": [
    "## Testing over model"
   ]
  },
  {
   "cell_type": "code",
   "execution_count": 42,
   "metadata": {},
   "outputs": [],
   "source": [
    "import cv2\n",
    "import numpy as np\n",
    "import matplotlib.pyplot as plt\n",
    "%matplotlib inline\n",
    "import cvlib as cv\n",
    "import tensorflow as tf\n",
    "from tensorflow.keras.models import load_model\n",
    "# from google.colab import  files\n",
    "# from google.colab.patches import cv2_imshow"
   ]
  },
  {
   "cell_type": "code",
   "execution_count": 50,
   "metadata": {
    "colab": {},
    "colab_type": "code",
    "id": "6aVohCYPX6Nw"
   },
   "outputs": [],
   "source": [
    "video = cv2.VideoCapture('vid1.mp4')  # Sincle colab has no option for live recording, existing file is used"
   ]
  },
  {
   "cell_type": "code",
   "execution_count": 51,
   "metadata": {},
   "outputs": [],
   "source": [
    "def detect_face_video(img):\n",
    "    label_dict={0:'Female',1:'Male'}\n",
    "    color_dict={0:(0,255,0),1:(0,0,255)}\n",
    "    faces, confidences = cv.detect_face(img) \n",
    "\n",
    "    for index,face in enumerate(faces):\n",
    "        x1,y1 = face[0],face[1]\n",
    "        x2,y2 = face[2],face[3]\n",
    "        image = img[y1:y2,x1:x2]\n",
    "        image_gry = cv2.cvtColor(image,cv2.COLOR_BGR2GRAY)\n",
    "        resize_img = cv2.resize(image_gry,(200,200))\n",
    "        norm_img = resize_img/255.0\n",
    "        reshaped=np.reshape(norm_img,(1,200,200,1))\n",
    "        #reshaped = np.vstack([reshaped])\n",
    "\n",
    "        try:  \n",
    "            with tf.device('/device:GPU:5'):\n",
    "                gender_res = model_online.predict(reshaped)\n",
    "        except RuntimeError as e:\n",
    "            print(e)\n",
    "        if(gender_res[0][0]<0.5):\n",
    "            label=0\n",
    "        else:\n",
    "            label=1\n",
    "     \n",
    "        cv2.rectangle(img,(x1,y1),(x2,y2),color_dict[label],thickness = 5)\n",
    "#         cv2.rectangle(img,(x1,y1),(x2,y2),color_dict[label],)\n",
    "        cv2.putText(img, label_dict[label], (x1, y1-10),cv2.FONT_HERSHEY_SIMPLEX,0.8,(255,255,255),2)\n",
    "    return img"
   ]
  },
  {
   "cell_type": "code",
   "execution_count": 52,
   "metadata": {
    "colab": {},
    "colab_type": "code",
    "id": "Ohs7zYxbK621"
   },
   "outputs": [],
   "source": [
    "width = int(video.get(cv2.CAP_PROP_FRAME_WIDTH))\n",
    "height = int(video.get(cv2.CAP_PROP_FRAME_HEIGHT))\n",
    "out = cv2.VideoWriter('test3_out.mp4',cv2.VideoWriter_fourcc(*'XVID'),25,(width,height))"
   ]
  },
  {
   "cell_type": "markdown",
   "metadata": {
    "colab_type": "text",
    "id": "dFzeit-Hb6U0"
   },
   "source": [
    "* colab gives the output of video files as a series of each frame present in video file"
   ]
  },
  {
   "cell_type": "code",
   "execution_count": 53,
   "metadata": {
    "colab": {},
    "colab_type": "code",
    "id": "xM-vCzDiZoT_"
   },
   "outputs": [],
   "source": [
    "if video.isOpened() == False:\n",
    "  print('Error! File Not found')\n",
    "while video.isOpened():\n",
    "    ret,frame = video.read()\n",
    "    if ret == True:\n",
    "        frame = detect_face_video(frame)  #detect the face for each frame displayed on video\n",
    "        out.write(frame)\n",
    "#     if cv2.waitKey(27) & 0xFF == ord('q'): #if live webcam is given input then video can be quit using letter 'q'\n",
    "#         break\n",
    "    else:\n",
    "        break\n",
    "video.release()\n",
    "out.release()\n",
    "cv2.destroyAllWindows()"
   ]
  }
 ],
 "metadata": {
  "colab": {
   "collapsed_sections": [],
   "name": "Gender_Model.ipynb",
   "provenance": []
  },
  "kernelspec": {
   "display_name": "Python 3",
   "language": "python",
   "name": "python3"
  },
  "language_info": {
   "codemirror_mode": {
    "name": "ipython",
    "version": 3
   },
   "file_extension": ".py",
   "mimetype": "text/x-python",
   "name": "python",
   "nbconvert_exporter": "python",
   "pygments_lexer": "ipython3",
   "version": "3.8.5"
  }
 },
 "nbformat": 4,
 "nbformat_minor": 1
}
