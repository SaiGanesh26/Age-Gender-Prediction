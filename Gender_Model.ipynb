{
  "nbformat": 4,
  "nbformat_minor": 0,
  "metadata": {
    "colab": {
      "name": "Gender_Model.ipynb",
      "provenance": [],
      "collapsed_sections": [],
      "include_colab_link": true
    },
    "kernelspec": {
      "name": "python3",
      "display_name": "Python 3"
    }
  },
  "cells": [
    {
      "cell_type": "markdown",
      "metadata": {
        "id": "view-in-github",
        "colab_type": "text"
      },
      "source": [
        "<a href=\"https://colab.research.google.com/github/SaiGanesh26/Gender-Classification-Age-Estimation/blob/master/Gender_Model.ipynb\" target=\"_parent\"><img src=\"https://colab.research.google.com/assets/colab-badge.svg\" alt=\"Open In Colab\"/></a>"
      ]
    },
    {
      "cell_type": "code",
      "metadata": {
        "id": "OFjxF7aqryEG"
      },
      "source": [
        "import cv2\n",
        "import numpy as np\n",
        "import pandas as pd \n",
        "from google.colab import drive\n",
        "from google.colab import files\n",
        "from google.colab.patches import cv2_imshow\n",
        "import matplotlib.pyplot as plt\n",
        "import os\n",
        "from sklearn.model_selection import train_test_split\n",
        "from sklearn.utils import compute_class_weight\n",
        "from sklearn.metrics import accuracy_score\n",
        "%matplotlib inline\n",
        "\n",
        "\n",
        "import tensorflow as tf\n",
        "from tensorflow.keras.models import Model\n",
        "from tensorflow.keras.layers import Input, Dense, Activation, Conv2D, MaxPool2D, AveragePooling2D, Flatten, Dropout, BatchNormalization\n",
        "from tensorflow.keras.optimizers import SGD, RMSprop, Adam"
      ],
      "execution_count": 17,
      "outputs": []
    },
    {
      "cell_type": "code",
      "metadata": {
        "colab": {
          "base_uri": "https://localhost:8080/"
        },
        "id": "USCnfqJ3EMxe",
        "outputId": "199cefc9-4c27-49ee-e45f-3566590e33df"
      },
      "source": [
        "# mount your drive to colab so that we can use the zip file present the google drive\n",
        "drive.mount(\"/content/drive/\")"
      ],
      "execution_count": 3,
      "outputs": [
        {
          "output_type": "stream",
          "text": [
            "Drive already mounted at /content/drive/; to attempt to forcibly remount, call drive.mount(\"/content/drive/\", force_remount=True).\n"
          ],
          "name": "stdout"
        }
      ]
    },
    {
      "cell_type": "code",
      "metadata": {
        "id": "I_w_yskZFDIs"
      },
      "source": [
        "wiki_process =  pd.read_csv(\"/content/drive/MyDrive/wiki_crop/wiki_process.csv\")"
      ],
      "execution_count": 4,
      "outputs": []
    },
    {
      "cell_type": "code",
      "metadata": {
        "colab": {
          "base_uri": "https://localhost:8080/",
          "height": 195
        },
        "id": "4r48NY_QJYgf",
        "outputId": "17d44291-084e-4a7a-8ead-d5d4c6208194"
      },
      "source": [
        "wiki_process.head()"
      ],
      "execution_count": 5,
      "outputs": [
        {
          "output_type": "execute_result",
          "data": {
            "text/html": [
              "<div>\n",
              "<style scoped>\n",
              "    .dataframe tbody tr th:only-of-type {\n",
              "        vertical-align: middle;\n",
              "    }\n",
              "\n",
              "    .dataframe tbody tr th {\n",
              "        vertical-align: top;\n",
              "    }\n",
              "\n",
              "    .dataframe thead th {\n",
              "        text-align: right;\n",
              "    }\n",
              "</style>\n",
              "<table border=\"1\" class=\"dataframe\">\n",
              "  <thead>\n",
              "    <tr style=\"text-align: right;\">\n",
              "      <th></th>\n",
              "      <th>gender</th>\n",
              "      <th>img_path</th>\n",
              "      <th>age</th>\n",
              "    </tr>\n",
              "  </thead>\n",
              "  <tbody>\n",
              "    <tr>\n",
              "      <th>0</th>\n",
              "      <td>1.0</td>\n",
              "      <td>17/10000217_1981-05-05_2009.jpg</td>\n",
              "      <td>27</td>\n",
              "    </tr>\n",
              "    <tr>\n",
              "      <th>1</th>\n",
              "      <td>1.0</td>\n",
              "      <td>12/100012_1948-07-03_2008.jpg</td>\n",
              "      <td>59</td>\n",
              "    </tr>\n",
              "    <tr>\n",
              "      <th>2</th>\n",
              "      <td>0.0</td>\n",
              "      <td>16/10002116_1971-05-31_2012.jpg</td>\n",
              "      <td>40</td>\n",
              "    </tr>\n",
              "    <tr>\n",
              "      <th>3</th>\n",
              "      <td>0.0</td>\n",
              "      <td>02/10002702_1960-11-09_2012.jpg</td>\n",
              "      <td>51</td>\n",
              "    </tr>\n",
              "    <tr>\n",
              "      <th>4</th>\n",
              "      <td>1.0</td>\n",
              "      <td>41/10003541_1937-09-27_1971.jpg</td>\n",
              "      <td>33</td>\n",
              "    </tr>\n",
              "  </tbody>\n",
              "</table>\n",
              "</div>"
            ],
            "text/plain": [
              "   gender                         img_path  age\n",
              "0     1.0  17/10000217_1981-05-05_2009.jpg   27\n",
              "1     1.0    12/100012_1948-07-03_2008.jpg   59\n",
              "2     0.0  16/10002116_1971-05-31_2012.jpg   40\n",
              "3     0.0  02/10002702_1960-11-09_2012.jpg   51\n",
              "4     1.0  41/10003541_1937-09-27_1971.jpg   33"
            ]
          },
          "metadata": {
            "tags": []
          },
          "execution_count": 5
        }
      ]
    },
    {
      "cell_type": "code",
      "metadata": {
        "id": "8wm5MuNxupMU"
      },
      "source": [
        "count = 0\n",
        "image_list = []\n",
        "for path in wiki_process[\"img_path\"]:\n",
        "    if count == 500:\n",
        "      break\n",
        "    else:\n",
        "      img = cv2.imread(\"/content/drive/MyDrive/wiki_crop/\"+path,cv2.IMREAD_GRAYSCALE)\n",
        "      img = cv2.resize(img,(350,350))\n",
        "      image_list.append(img)\n",
        "      count += 1"
      ],
      "execution_count": 6,
      "outputs": []
    },
    {
      "cell_type": "code",
      "metadata": {
        "id": "vipIhXCiww3x",
        "colab": {
          "base_uri": "https://localhost:8080/"
        },
        "outputId": "51f420d5-9621-433b-f981-a0937a835bf0"
      },
      "source": [
        "new_df = wiki_process.head(500)\n",
        "len(new_df)"
      ],
      "execution_count": 7,
      "outputs": [
        {
          "output_type": "execute_result",
          "data": {
            "text/plain": [
              "500"
            ]
          },
          "metadata": {
            "tags": []
          },
          "execution_count": 7
        }
      ]
    },
    {
      "cell_type": "code",
      "metadata": {
        "colab": {
          "base_uri": "https://localhost:8080/",
          "height": 301
        },
        "id": "0TPiTc4k6Lvj",
        "outputId": "526dbd31-d17d-45b8-e27c-419337c5760e"
      },
      "source": [
        "new_df[\"image\"] = image_list\n",
        "new_df.head()"
      ],
      "execution_count": 8,
      "outputs": [
        {
          "output_type": "stream",
          "text": [
            "/usr/local/lib/python3.6/dist-packages/ipykernel_launcher.py:1: SettingWithCopyWarning: \n",
            "A value is trying to be set on a copy of a slice from a DataFrame.\n",
            "Try using .loc[row_indexer,col_indexer] = value instead\n",
            "\n",
            "See the caveats in the documentation: https://pandas.pydata.org/pandas-docs/stable/user_guide/indexing.html#returning-a-view-versus-a-copy\n",
            "  \"\"\"Entry point for launching an IPython kernel.\n"
          ],
          "name": "stderr"
        },
        {
          "output_type": "execute_result",
          "data": {
            "text/html": [
              "<div>\n",
              "<style scoped>\n",
              "    .dataframe tbody tr th:only-of-type {\n",
              "        vertical-align: middle;\n",
              "    }\n",
              "\n",
              "    .dataframe tbody tr th {\n",
              "        vertical-align: top;\n",
              "    }\n",
              "\n",
              "    .dataframe thead th {\n",
              "        text-align: right;\n",
              "    }\n",
              "</style>\n",
              "<table border=\"1\" class=\"dataframe\">\n",
              "  <thead>\n",
              "    <tr style=\"text-align: right;\">\n",
              "      <th></th>\n",
              "      <th>gender</th>\n",
              "      <th>img_path</th>\n",
              "      <th>age</th>\n",
              "      <th>image</th>\n",
              "    </tr>\n",
              "  </thead>\n",
              "  <tbody>\n",
              "    <tr>\n",
              "      <th>0</th>\n",
              "      <td>1.0</td>\n",
              "      <td>17/10000217_1981-05-05_2009.jpg</td>\n",
              "      <td>27</td>\n",
              "      <td>[[255, 255, 255, 255, 255, 255, 255, 255, 255,...</td>\n",
              "    </tr>\n",
              "    <tr>\n",
              "      <th>1</th>\n",
              "      <td>1.0</td>\n",
              "      <td>12/100012_1948-07-03_2008.jpg</td>\n",
              "      <td>59</td>\n",
              "      <td>[[96, 94, 91, 90, 92, 96, 97, 98, 99, 100, 98,...</td>\n",
              "    </tr>\n",
              "    <tr>\n",
              "      <th>2</th>\n",
              "      <td>0.0</td>\n",
              "      <td>16/10002116_1971-05-31_2012.jpg</td>\n",
              "      <td>40</td>\n",
              "      <td>[[37, 37, 37, 37, 37, 37, 37, 37, 37, 37, 37, ...</td>\n",
              "    </tr>\n",
              "    <tr>\n",
              "      <th>3</th>\n",
              "      <td>0.0</td>\n",
              "      <td>02/10002702_1960-11-09_2012.jpg</td>\n",
              "      <td>51</td>\n",
              "      <td>[[121, 121, 121, 121, 121, 121, 122, 122, 122,...</td>\n",
              "    </tr>\n",
              "    <tr>\n",
              "      <th>4</th>\n",
              "      <td>1.0</td>\n",
              "      <td>41/10003541_1937-09-27_1971.jpg</td>\n",
              "      <td>33</td>\n",
              "      <td>[[190, 196, 204, 203, 201, 197, 198, 201, 203,...</td>\n",
              "    </tr>\n",
              "  </tbody>\n",
              "</table>\n",
              "</div>"
            ],
            "text/plain": [
              "   gender  ...                                              image\n",
              "0     1.0  ...  [[255, 255, 255, 255, 255, 255, 255, 255, 255,...\n",
              "1     1.0  ...  [[96, 94, 91, 90, 92, 96, 97, 98, 99, 100, 98,...\n",
              "2     0.0  ...  [[37, 37, 37, 37, 37, 37, 37, 37, 37, 37, 37, ...\n",
              "3     0.0  ...  [[121, 121, 121, 121, 121, 121, 122, 122, 122,...\n",
              "4     1.0  ...  [[190, 196, 204, 203, 201, 197, 198, 201, 203,...\n",
              "\n",
              "[5 rows x 4 columns]"
            ]
          },
          "metadata": {
            "tags": []
          },
          "execution_count": 8
        }
      ]
    },
    {
      "cell_type": "code",
      "metadata": {
        "colab": {
          "base_uri": "https://localhost:8080/",
          "height": 352
        },
        "id": "iKLGIMOZ6mXd",
        "outputId": "f9e87e58-2529-4f4d-930e-66eeb804a984"
      },
      "source": [
        "import seaborn as sns\n",
        "sns.countplot(new_df[\"gender\"])"
      ],
      "execution_count": 9,
      "outputs": [
        {
          "output_type": "stream",
          "text": [
            "/usr/local/lib/python3.6/dist-packages/seaborn/_decorators.py:43: FutureWarning: Pass the following variable as a keyword arg: x. From version 0.12, the only valid positional argument will be `data`, and passing other arguments without an explicit keyword will result in an error or misinterpretation.\n",
            "  FutureWarning\n"
          ],
          "name": "stderr"
        },
        {
          "output_type": "execute_result",
          "data": {
            "text/plain": [
              "<matplotlib.axes._subplots.AxesSubplot at 0x7ff30dabcef0>"
            ]
          },
          "metadata": {
            "tags": []
          },
          "execution_count": 9
        },
        {
          "output_type": "display_data",
          "data": {
            "image/png": "[encoded data removed]",
            "text/plain": [
              "<Figure size 432x288 with 1 Axes>"
            ]
          },
          "metadata": {
            "tags": [],
            "needs_background": "light"
          }
        }
      ]
    },
    {
      "cell_type": "code",
      "metadata": {
        "colab": {
          "base_uri": "https://localhost:8080/"
        },
        "id": "azk3KUl_6yCW",
        "outputId": "8589606e-c09b-43e6-9806-de2e5dfcaaea"
      },
      "source": [
        "new_df = new_df.dropna()\n",
        "new_df.info()"
      ],
      "execution_count": 10,
      "outputs": [
        {
          "output_type": "stream",
          "text": [
            "<class 'pandas.core.frame.DataFrame'>\n",
            "Int64Index: 500 entries, 0 to 499\n",
            "Data columns (total 4 columns):\n",
            " #   Column    Non-Null Count  Dtype  \n",
            "---  ------    --------------  -----  \n",
            " 0   gender    500 non-null    float64\n",
            " 1   img_path  500 non-null    object \n",
            " 2   age       500 non-null    int64  \n",
            " 3   image     500 non-null    object \n",
            "dtypes: float64(1), int64(1), object(2)\n",
            "memory usage: 19.5+ KB\n"
          ],
          "name": "stdout"
        }
      ]
    },
    {
      "cell_type": "code",
      "metadata": {
        "id": "dGJhs4Kl7CFo"
      },
      "source": [
        "#normalizing the pixel values\n",
        "x_data = np.array(image_list)/255\n",
        "y_data = new_df[\"gender\"].to_numpy()"
      ],
      "execution_count": 11,
      "outputs": []
    },
    {
      "cell_type": "code",
      "metadata": {
        "colab": {
          "base_uri": "https://localhost:8080/"
        },
        "id": "tnNap2kH7NEa",
        "outputId": "1d7e40fc-a1da-4222-d022-3a40d7b94433"
      },
      "source": [
        "# image_x will contain the original grayscale images \n",
        "x_data = x_data.reshape((x_data.shape[0],350,350,1))\n",
        "\n",
        "print(\"x_data shape: {}\".format(x_data.shape))\n",
        "print(\"y_data shape: {}\".format(y_data.shape))"
      ],
      "execution_count": 12,
      "outputs": [
        {
          "output_type": "stream",
          "text": [
            "x_data shape: (500, 350, 350, 1)\n",
            "y_data shape: (500,)\n"
          ],
          "name": "stdout"
        }
      ]
    },
    {
      "cell_type": "code",
      "metadata": {
        "colab": {
          "base_uri": "https://localhost:8080/"
        },
        "id": "DnPs3d7r7QVA",
        "outputId": "4945176d-b5dd-455d-9c41-5b5d5cb681cb"
      },
      "source": [
        "train_x, test_x, train_y, test_y = train_test_split(x_data, y_data, test_size = 0.1, random_state=42)\n",
        "\n",
        "print(\"train_x shape: {}\".format(train_x.shape))\n",
        "print(\"train_y shape: {}\\n\".format(train_y.shape))\n",
        "\n",
        "print(\"test_x shape: {}\".format(test_x.shape))\n",
        "print(\"test_y shape: {}\".format(test_y.shape))"
      ],
      "execution_count": 13,
      "outputs": [
        {
          "output_type": "stream",
          "text": [
            "train_x shape: (450, 350, 350, 1)\n",
            "train_y shape: (450,)\n",
            "\n",
            "test_x shape: (50, 350, 350, 1)\n",
            "test_y shape: (50,)\n"
          ],
          "name": "stdout"
        }
      ]
    },
    {
      "cell_type": "code",
      "metadata": {
        "colab": {
          "base_uri": "https://localhost:8080/"
        },
        "id": "MY3re0yx7ZcS",
        "outputId": "0ccce0f0-cd69-4244-a15b-f1c86b8e751a"
      },
      "source": [
        "num_subjects = np.unique(y_data).shape[0]\n",
        "print(\"Number of subjects: {}\".format(np.unique(y_data).shape[0]))"
      ],
      "execution_count": 14,
      "outputs": [
        {
          "output_type": "stream",
          "text": [
            "Number of subjects: 2\n"
          ],
          "name": "stdout"
        }
      ]
    },
    {
      "cell_type": "code",
      "metadata": {
        "colab": {
          "base_uri": "https://localhost:8080/"
        },
        "id": "1Uu3w0u77cCn",
        "outputId": "c26aba37-bd41-49ed-ba4c-c1cc2ead83a4"
      },
      "source": [
        "# specify the input size of the images\n",
        "images = Input((train_x.shape[1], train_x.shape[2], 1,))\n",
        "# a convolution layer of 32 filters of size 9x9 to extract features (valid padding)\n",
        "x = Conv2D(32,kernel_size=(15,15),padding=\"valid\",strides=2)(images)\n",
        "# a maxpooling layer to down-sample features with pool size (2, 2)\n",
        "x = MaxPool2D(pool_size=(2,2))(x)\n",
        "#  # another convolution layer of 64 filters of size 11x11 to extract features (valid padding)\n",
        "x = Conv2D(64,kernel_size=(15,15),padding=\"valid\",strides=2)(x)\n",
        "# # # a maxpooling layer to down-sample features with pool size (2, 2)\n",
        "x = MaxPool2D(pool_size=(2,2))(x)\n",
        "# flatten extracted features to form feature vector\n",
        "x = Flatten()(x)\n",
        "# a drop out layer for regularization (25% probability)\n",
        "x = Dropout(rate=0.25,seed=0.25)(x)\n",
        "# first fully-connected layer to map the features to vectors of size 256\n",
        "x = Dense(64,activation=\"relu\")(x)\n",
        "# anoter drop out layer for regularization (25% probability)\n",
        "x = Dropout(rate=0.25,seed=0.25)(x)\n",
        "# a second fully-connected layer to map the features to a logit vector with one logit per subject\n",
        "x = Dense(num_subjects)(x)\n",
        "# use softmax activation to convert the logits to class probabilities for each subject\n",
        "predictions = Activation(\"sigmoid\")(x)\n",
        "\n",
        "# create the model using the layers we defined previously\n",
        "sample_cnn = Model(inputs=images, outputs=predictions)\n",
        "\n",
        "# compile the model so that it uses Adam for optimization during training with cross-entropy loss\n",
        "sample_cnn.compile(optimizer=Adam(), loss=\"sparse_categorical_crossentropy\", metrics=[\"acc\"])\n",
        "\n",
        "# print out a summary of the model achitecture\n",
        "print(sample_cnn.summary())"
      ],
      "execution_count": 15,
      "outputs": [
        {
          "output_type": "stream",
          "text": [
            "Model: \"functional_1\"\n",
            "_________________________________________________________________\n",
            "Layer (type)                 Output Shape              Param #   \n",
            "=================================================================\n",
            "input_1 (InputLayer)         [(None, 350, 350, 1)]     0         \n",
            "_________________________________________________________________\n",
            "conv2d (Conv2D)              (None, 168, 168, 32)      7232      \n",
            "_________________________________________________________________\n",
            "max_pooling2d (MaxPooling2D) (None, 84, 84, 32)        0         \n",
            "_________________________________________________________________\n",
            "conv2d_1 (Conv2D)            (None, 35, 35, 64)        460864    \n",
            "_________________________________________________________________\n",
            "max_pooling2d_1 (MaxPooling2 (None, 17, 17, 64)        0         \n",
            "_________________________________________________________________\n",
            "flatten (Flatten)            (None, 18496)             0         \n",
            "_________________________________________________________________\n",
            "dropout (Dropout)            (None, 18496)             0         \n",
            "_________________________________________________________________\n",
            "dense (Dense)                (None, 64)                1183808   \n",
            "_________________________________________________________________\n",
            "dropout_1 (Dropout)          (None, 64)                0         \n",
            "_________________________________________________________________\n",
            "dense_1 (Dense)              (None, 2)                 130       \n",
            "_________________________________________________________________\n",
            "activation (Activation)      (None, 2)                 0         \n",
            "=================================================================\n",
            "Total params: 1,652,034\n",
            "Trainable params: 1,652,034\n",
            "Non-trainable params: 0\n",
            "_________________________________________________________________\n",
            "None\n"
          ],
          "name": "stdout"
        }
      ]
    },
    {
      "cell_type": "code",
      "metadata": {
        "id": "Ku0Tn2Io7sbo"
      },
      "source": [
        "# train model\n",
        "history = sample_cnn.fit(train_x, train_y, validation_data=(test_x, test_y), epochs=5, verbose=1)"
      ],
      "execution_count": null,
      "outputs": []
    },
    {
      "cell_type": "code",
      "metadata": {
        "colab": {
          "base_uri": "https://localhost:8080/"
        },
        "id": "MwXC0vVj74oG",
        "outputId": "c68393fd-59fb-431c-9a52-5c92a0beca60"
      },
      "source": [
        "# evaluate model, get train/test accuracy\n",
        "train_pred = np.argmax(sample_cnn.predict(train_x), axis=1)\n",
        "test_pred = np.argmax(sample_cnn.predict(test_x), axis=1)\n",
        "print(\"\\nTraining accuracy using sample CNN model: {}\".format(accuracy_score(train_y, train_pred)))\n",
        "print(\"Testing accuracy using sample CNN model: {}\\n\".format(accuracy_score(test_y, test_pred)))"
      ],
      "execution_count": 20,
      "outputs": [
        {
          "output_type": "stream",
          "text": [
            "\n",
            "Training accuracy using sample CNN model: 0.2222222222222222\n",
            "Testing accuracy using sample CNN model: 0.22\n",
            "\n"
          ],
          "name": "stdout"
        }
      ]
    },
    {
      "cell_type": "code",
      "metadata": {
        "colab": {
          "base_uri": "https://localhost:8080/",
          "height": 573
        },
        "id": "fi7OztmcAmle",
        "outputId": "e7d6b37c-e8df-43c7-c84f-ea751b8e27ee"
      },
      "source": [
        "# summarize history for accuracy\n",
        "plt.plot(history.history['acc'])\n",
        "plt.plot(history.history['val_acc'])\n",
        "plt.title('model accuracy')\n",
        "plt.ylabel('accuracy')\n",
        "plt.xlabel('epoch')\n",
        "plt.legend(['train', 'test'], loc='upper left')\n",
        "plt.show()\n",
        "# summarize history for loss\n",
        "plt.plot(history.history['loss'])\n",
        "plt.plot(history.history['val_loss'])\n",
        "plt.title('model loss')\n",
        "plt.ylabel('loss')\n",
        "plt.xlabel('epoch')\n",
        "plt.legend(['train', 'test'], loc='upper left')\n",
        "plt.show()"
      ],
      "execution_count": 22,
      "outputs": [
        {
          "output_type": "display_data",
          "data": {
            "image/png": "[encoded data removed]",
            "text/plain": [
              "<Figure size 432x288 with 1 Axes>"
            ]
          },
          "metadata": {
            "tags": [],
            "needs_background": "light"
          }
        },
        {
          "output_type": "display_data",
          "data": {
            "image/png": "[encoded data removed]",
            "text/plain": [
              "<Figure size 432x288 with 1 Axes>"
            ]
          },
          "metadata": {
            "tags": [],
            "needs_background": "light"
          }
        }
      ]
    },
    {
      "cell_type": "code",
      "metadata": {
        "id": "Cfnfm5eUAxBm"
      },
      "source": [
        ""
      ],
      "execution_count": null,
      "outputs": []
    }
  ]
}