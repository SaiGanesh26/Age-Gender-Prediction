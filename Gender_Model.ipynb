{
 "cells": [
  {
   "cell_type": "code",
   "execution_count": 61,
   "metadata": {
    "id": "OFjxF7aqryEG"
   },
   "outputs": [],
   "source": [
    "import cv2\n",
    "import numpy as np\n",
    "import pandas as pd \n",
    "import matplotlib.pyplot as plt\n",
    "import matplotlib.image as mpimg\n",
    "import os\n",
    "from sklearn.model_selection import train_test_split\n",
    "from sklearn.utils import compute_class_weight\n",
    "%matplotlib inline\n",
    "\n",
    "from sklearn.metrics import accuracy_score\n",
    "from sklearn.metrics import classification_report,confusion_matrix\n",
    "import tensorflow as tf\n",
    "from tensorflow.keras.models import Model\n",
    "from tensorflow.keras.layers import Input, Dense, Activation, Conv2D, MaxPool2D, AveragePooling2D, Flatten, Dropout, BatchNormalization\n",
    "from tensorflow.keras.optimizers import SGD, RMSprop, Adam"
   ]
  },
  {
   "cell_type": "code",
   "execution_count": 19,
   "metadata": {},
   "outputs": [
    {
     "name": "stdout",
     "output_type": "stream",
     "text": [
      "Num GPUs Available:  [PhysicalDevice(name='/physical_device:GPU:0', device_type='GPU'), PhysicalDevice(name='/physical_device:GPU:1', device_type='GPU'), PhysicalDevice(name='/physical_device:GPU:2', device_type='GPU'), PhysicalDevice(name='/physical_device:GPU:3', device_type='GPU'), PhysicalDevice(name='/physical_device:GPU:4', device_type='GPU'), PhysicalDevice(name='/physical_device:GPU:5', device_type='GPU'), PhysicalDevice(name='/physical_device:GPU:6', device_type='GPU'), PhysicalDevice(name='/physical_device:GPU:7', device_type='GPU')]\n"
     ]
    }
   ],
   "source": [
    "print(\"Num GPUs Available: \", tf.config.experimental.list_physical_devices('GPU'))"
   ]
  },
  {
   "cell_type": "code",
   "execution_count": 3,
   "metadata": {},
   "outputs": [
    {
     "name": "stdout",
     "output_type": "stream",
     "text": [
      "tf.Tensor([1 2 3 4], shape=(4,), dtype=int64)\n"
     ]
    }
   ],
   "source": [
    "print(tf.constant(np.array([1,2,3,4])))"
   ]
  },
  {
   "cell_type": "code",
   "execution_count": 5,
   "metadata": {},
   "outputs": [
    {
     "name": "stdout",
     "output_type": "stream",
     "text": [
      "[ 1  4 12 32]\n"
     ]
    }
   ],
   "source": [
    "tf.debugging.set_log_device_placement(True)\n",
    "\n",
    "try:\n",
    "  # Specify an invalid GPU device\n",
    "  with tf.device('/device:GPU:9'):\n",
    "    a = np.array([1,2,3,4])\n",
    "    b = np.array([1,2,4,8])\n",
    "    c = a * b \n",
    "    print(c)\n",
    "except RuntimeError as e:\n",
    "  print(e)"
   ]
  },
  {
   "cell_type": "code",
   "execution_count": 20,
   "metadata": {},
   "outputs": [],
   "source": [
    "wiki_process =  pd.read_csv(\"wiki_process.csv\")"
   ]
  },
  {
   "cell_type": "code",
   "execution_count": 21,
   "metadata": {
    "colab": {
     "base_uri": "https://localhost:8080/"
    },
    "id": "4r48NY_QJYgf",
    "outputId": "f1b49401-8aa4-4e08-a6fa-2474977001a3"
   },
   "outputs": [
    {
     "data": {
      "text/html": [
       "<div>\n",
       "<style scoped>\n",
       "    .dataframe tbody tr th:only-of-type {\n",
       "        vertical-align: middle;\n",
       "    }\n",
       "\n",
       "    .dataframe tbody tr th {\n",
       "        vertical-align: top;\n",
       "    }\n",
       "\n",
       "    .dataframe thead th {\n",
       "        text-align: right;\n",
       "    }\n",
       "</style>\n",
       "<table border=\"1\" class=\"dataframe\">\n",
       "  <thead>\n",
       "    <tr style=\"text-align: right;\">\n",
       "      <th></th>\n",
       "      <th>gender</th>\n",
       "      <th>img_path</th>\n",
       "      <th>age</th>\n",
       "    </tr>\n",
       "  </thead>\n",
       "  <tbody>\n",
       "    <tr>\n",
       "      <th>0</th>\n",
       "      <td>1.0</td>\n",
       "      <td>17/10000217_1981-05-05_2009.jpg</td>\n",
       "      <td>27</td>\n",
       "    </tr>\n",
       "    <tr>\n",
       "      <th>1</th>\n",
       "      <td>1.0</td>\n",
       "      <td>12/100012_1948-07-03_2008.jpg</td>\n",
       "      <td>59</td>\n",
       "    </tr>\n",
       "    <tr>\n",
       "      <th>2</th>\n",
       "      <td>0.0</td>\n",
       "      <td>16/10002116_1971-05-31_2012.jpg</td>\n",
       "      <td>40</td>\n",
       "    </tr>\n",
       "    <tr>\n",
       "      <th>3</th>\n",
       "      <td>0.0</td>\n",
       "      <td>02/10002702_1960-11-09_2012.jpg</td>\n",
       "      <td>51</td>\n",
       "    </tr>\n",
       "    <tr>\n",
       "      <th>4</th>\n",
       "      <td>1.0</td>\n",
       "      <td>41/10003541_1937-09-27_1971.jpg</td>\n",
       "      <td>33</td>\n",
       "    </tr>\n",
       "  </tbody>\n",
       "</table>\n",
       "</div>"
      ],
      "text/plain": [
       "   gender                         img_path  age\n",
       "0     1.0  17/10000217_1981-05-05_2009.jpg   27\n",
       "1     1.0    12/100012_1948-07-03_2008.jpg   59\n",
       "2     0.0  16/10002116_1971-05-31_2012.jpg   40\n",
       "3     0.0  02/10002702_1960-11-09_2012.jpg   51\n",
       "4     1.0  41/10003541_1937-09-27_1971.jpg   33"
      ]
     },
     "execution_count": 21,
     "metadata": {},
     "output_type": "execute_result"
    }
   ],
   "source": [
    "wiki_process.head()"
   ]
  },
  {
   "cell_type": "code",
   "execution_count": 22,
   "metadata": {
    "id": "vipIhXCiww3x"
   },
   "outputs": [],
   "source": [
    "#count = 0 \n",
    "try:  \n",
    "    with tf.device('/device:GPU:7'):\n",
    "        image_list = []\n",
    "        for path in wiki_process[\"img_path\"]:\n",
    "#             if count == 500:\n",
    "#                 break\n",
    "#             else:\n",
    "            img = cv2.imread(\"wiki_crop/\" + path,cv2.IMREAD_GRAYSCALE)\n",
    "            img = cv2.resize(img,(200,200))\n",
    "            image_list.append(img)\n",
    "#                 count += 1\n",
    "except RuntimeError as e:\n",
    "  print(e)"
   ]
  },
  {
   "cell_type": "code",
   "execution_count": 23,
   "metadata": {},
   "outputs": [
    {
     "data": {
      "text/html": [
       "<div>\n",
       "<style scoped>\n",
       "    .dataframe tbody tr th:only-of-type {\n",
       "        vertical-align: middle;\n",
       "    }\n",
       "\n",
       "    .dataframe tbody tr th {\n",
       "        vertical-align: top;\n",
       "    }\n",
       "\n",
       "    .dataframe thead th {\n",
       "        text-align: right;\n",
       "    }\n",
       "</style>\n",
       "<table border=\"1\" class=\"dataframe\">\n",
       "  <thead>\n",
       "    <tr style=\"text-align: right;\">\n",
       "      <th></th>\n",
       "      <th>gender</th>\n",
       "      <th>img_path</th>\n",
       "      <th>age</th>\n",
       "      <th>image</th>\n",
       "    </tr>\n",
       "  </thead>\n",
       "  <tbody>\n",
       "    <tr>\n",
       "      <th>0</th>\n",
       "      <td>1.0</td>\n",
       "      <td>17/10000217_1981-05-05_2009.jpg</td>\n",
       "      <td>27</td>\n",
       "      <td>[[255, 255, 255, 255, 255, 255, 255, 255, 255,...</td>\n",
       "    </tr>\n",
       "    <tr>\n",
       "      <th>1</th>\n",
       "      <td>1.0</td>\n",
       "      <td>12/100012_1948-07-03_2008.jpg</td>\n",
       "      <td>59</td>\n",
       "      <td>[[95, 91, 93, 96, 98, 99, 97, 93, 93, 95, 96, ...</td>\n",
       "    </tr>\n",
       "    <tr>\n",
       "      <th>2</th>\n",
       "      <td>0.0</td>\n",
       "      <td>16/10002116_1971-05-31_2012.jpg</td>\n",
       "      <td>40</td>\n",
       "      <td>[[37, 37, 37, 37, 37, 37, 37, 37, 37, 36, 36, ...</td>\n",
       "    </tr>\n",
       "    <tr>\n",
       "      <th>3</th>\n",
       "      <td>0.0</td>\n",
       "      <td>02/10002702_1960-11-09_2012.jpg</td>\n",
       "      <td>51</td>\n",
       "      <td>[[121, 121, 121, 122, 122, 122, 123, 123, 123,...</td>\n",
       "    </tr>\n",
       "    <tr>\n",
       "      <th>4</th>\n",
       "      <td>1.0</td>\n",
       "      <td>41/10003541_1937-09-27_1971.jpg</td>\n",
       "      <td>33</td>\n",
       "      <td>[[190, 204, 202, 197, 202, 202, 200, 201, 204,...</td>\n",
       "    </tr>\n",
       "  </tbody>\n",
       "</table>\n",
       "</div>"
      ],
      "text/plain": [
       "   gender                         img_path  age  \\\n",
       "0     1.0  17/10000217_1981-05-05_2009.jpg   27   \n",
       "1     1.0    12/100012_1948-07-03_2008.jpg   59   \n",
       "2     0.0  16/10002116_1971-05-31_2012.jpg   40   \n",
       "3     0.0  02/10002702_1960-11-09_2012.jpg   51   \n",
       "4     1.0  41/10003541_1937-09-27_1971.jpg   33   \n",
       "\n",
       "                                               image  \n",
       "0  [[255, 255, 255, 255, 255, 255, 255, 255, 255,...  \n",
       "1  [[95, 91, 93, 96, 98, 99, 97, 93, 93, 95, 96, ...  \n",
       "2  [[37, 37, 37, 37, 37, 37, 37, 37, 37, 36, 36, ...  \n",
       "3  [[121, 121, 121, 122, 122, 122, 123, 123, 123,...  \n",
       "4  [[190, 204, 202, 197, 202, 202, 200, 201, 204,...  "
      ]
     },
     "execution_count": 23,
     "metadata": {},
     "output_type": "execute_result"
    }
   ],
   "source": [
    "# wiki_process = wiki_process.head(500)\n",
    "wiki_process[\"image\"] = image_list\n",
    "wiki_process.head()"
   ]
  },
  {
   "cell_type": "code",
   "execution_count": 7,
   "metadata": {},
   "outputs": [],
   "source": [
    "#saving the file as wiki_image after removing null images\n",
    "#wiki_process.to_csv(\"wiki_image.csv\")"
   ]
  },
  {
   "cell_type": "code",
   "execution_count": 24,
   "metadata": {},
   "outputs": [
    {
     "name": "stdout",
     "output_type": "stream",
     "text": [
      "<class 'pandas.core.frame.DataFrame'>\n",
      "Int64Index: 39455 entries, 0 to 39454\n",
      "Data columns (total 4 columns):\n",
      " #   Column    Non-Null Count  Dtype  \n",
      "---  ------    --------------  -----  \n",
      " 0   gender    39455 non-null  float64\n",
      " 1   img_path  39455 non-null  object \n",
      " 2   age       39455 non-null  int64  \n",
      " 3   image     39455 non-null  object \n",
      "dtypes: float64(1), int64(1), object(2)\n",
      "memory usage: 1.5+ MB\n"
     ]
    }
   ],
   "source": [
    "wiki_process = wiki_process.dropna()\n",
    "wiki_process.info()"
   ]
  },
  {
   "cell_type": "code",
   "execution_count": 25,
   "metadata": {},
   "outputs": [
    {
     "data": {
      "text/plain": [
       "<matplotlib.image.AxesImage at 0x7f899c3e3670>"
      ]
     },
     "execution_count": 25,
     "metadata": {},
     "output_type": "execute_result"
    },
    {
     "data": {
      "image/png": "[encoded data removed]",
      "text/plain": [
       "<Figure size 432x288 with 1 Axes>"
      ]
     },
     "metadata": {
      "needs_background": "light"
     },
     "output_type": "display_data"
    }
   ],
   "source": [
    "plt.imshow(wiki_process[\"image\"][5])"
   ]
  },
  {
   "cell_type": "code",
   "execution_count": 26,
   "metadata": {},
   "outputs": [],
   "source": [
    "#normalizing the pixel values\n",
    "try:  \n",
    "    with tf.device('/device:GPU:7'):\n",
    "        x_data = np.array(image_list)/255\n",
    "        y_data = wiki_process[\"gender\"].to_numpy()\n",
    "except RuntimeError as e:\n",
    "  print(e)"
   ]
  },
  {
   "cell_type": "code",
   "execution_count": 27,
   "metadata": {},
   "outputs": [
    {
     "data": {
      "text/plain": [
       "(39455, 200, 200)"
      ]
     },
     "execution_count": 27,
     "metadata": {},
     "output_type": "execute_result"
    }
   ],
   "source": [
    "x_data.shape"
   ]
  },
  {
   "cell_type": "code",
   "execution_count": 28,
   "metadata": {},
   "outputs": [
    {
     "data": {
      "text/plain": [
       "(39455,)"
      ]
     },
     "execution_count": 28,
     "metadata": {},
     "output_type": "execute_result"
    }
   ],
   "source": [
    "y_data.shape"
   ]
  },
  {
   "cell_type": "code",
   "execution_count": 29,
   "metadata": {},
   "outputs": [
    {
     "name": "stdout",
     "output_type": "stream",
     "text": [
      "x_data shape: (39455, 200, 200, 1)\n",
      "y_data shape: (39455,)\n"
     ]
    }
   ],
   "source": [
    "# image_x will contain the original grayscale images \n",
    "x_data = x_data.reshape((x_data.shape[0],200,200,1))\n",
    "\n",
    "print(\"x_data shape: {}\".format(x_data.shape))\n",
    "print(\"y_data shape: {}\".format(y_data.shape))"
   ]
  },
  {
   "cell_type": "code",
   "execution_count": 30,
   "metadata": {},
   "outputs": [
    {
     "name": "stdout",
     "output_type": "stream",
     "text": [
      "train_x shape: (35509, 200, 200, 1)\n",
      "train_y shape: (35509,)\n",
      "\n",
      "test_x shape: (3946, 200, 200, 1)\n",
      "test_y shape: (3946,)\n"
     ]
    }
   ],
   "source": [
    "train_x, test_x, train_y, test_y = train_test_split(x_data, y_data, train_size=0.9, random_state=42)\n",
    "\n",
    "print(\"train_x shape: {}\".format(train_x.shape))\n",
    "print(\"train_y shape: {}\\n\".format(train_y.shape))\n",
    "\n",
    "print(\"test_x shape: {}\".format(test_x.shape))\n",
    "print(\"test_y shape: {}\".format(test_y.shape))"
   ]
  },
  {
   "cell_type": "code",
   "execution_count": 22,
   "metadata": {},
   "outputs": [
    {
     "name": "stdout",
     "output_type": "stream",
     "text": [
      "Number of subjects: 2\n"
     ]
    }
   ],
   "source": [
    "# num_subjects = np.unique(y_data).shape[0]\n",
    "# print(\"Number of subjects: {}\".format(np.unique(y_data).shape[0]))"
   ]
  },
  {
   "cell_type": "markdown",
   "metadata": {},
   "source": [
    "# Tensorflow"
   ]
  },
  {
   "cell_type": "code",
   "execution_count": 39,
   "metadata": {},
   "outputs": [
    {
     "name": "stdout",
     "output_type": "stream",
     "text": [
      "Model: \"functional_3\"\n",
      "_________________________________________________________________\n",
      "Layer (type)                 Output Shape              Param #   \n",
      "=================================================================\n",
      "input_2 (InputLayer)         [(None, 200, 200, 1)]     0         \n",
      "_________________________________________________________________\n",
      "conv2d_2 (Conv2D)            (None, 186, 186, 2)       452       \n",
      "_________________________________________________________________\n",
      "max_pooling2d_2 (MaxPooling2 (None, 93, 93, 2)         0         \n",
      "_________________________________________________________________\n",
      "conv2d_3 (Conv2D)            (None, 79, 79, 64)        28864     \n",
      "_________________________________________________________________\n",
      "max_pooling2d_3 (MaxPooling2 (None, 39, 39, 64)        0         \n",
      "_________________________________________________________________\n",
      "flatten_1 (Flatten)          (None, 97344)             0         \n",
      "_________________________________________________________________\n",
      "dropout_2 (Dropout)          (None, 97344)             0         \n",
      "_________________________________________________________________\n",
      "dense_2 (Dense)              (None, 128)               12460160  \n",
      "_________________________________________________________________\n",
      "dropout_3 (Dropout)          (None, 128)               0         \n",
      "_________________________________________________________________\n",
      "dense_3 (Dense)              (None, 1)                 129       \n",
      "_________________________________________________________________\n",
      "activation_1 (Activation)    (None, 1)                 0         \n",
      "=================================================================\n",
      "Total params: 12,489,605\n",
      "Trainable params: 12,489,605\n",
      "Non-trainable params: 0\n",
      "_________________________________________________________________\n",
      "None\n"
     ]
    }
   ],
   "source": [
    "try:  \n",
    "    with tf.device('/device:GPU:7'):\n",
    "        # specify the input size of the images\n",
    "        images = Input((train_x.shape[1], train_x.shape[2], 1,))\n",
    "        # a convolution layer of 32 filters of size 9x9 to extract features (valid padding)\n",
    "        x = Conv2D(2,kernel_size=(15,15),padding=\"valid\")(images)\n",
    "        # a maxpooling layer to down-sample features with pool size (2, 2)\n",
    "        x = MaxPool2D(pool_size=(2,2))(x)\n",
    "        #  # another convolution layer of 64 filters of size 11x11 to extract features (valid padding)\n",
    "        x = Conv2D(64,kernel_size=(15,15),padding=\"valid\")(x)\n",
    "        # # # a maxpooling layer to down-sample features with pool size (2, 2)\n",
    "        x = MaxPool2D(pool_size=(2,2))(x)\n",
    "        # flatten extracted features to form feature vector\n",
    "        x = Flatten()(x)\n",
    "        # a drop out layer for regularization (25% probability)\n",
    "        x = Dropout(rate=0.3,seed=0.25)(x)\n",
    "        # first fully-connected layer to map the features to vectors of size 256\n",
    "        x = Dense(128,activation=\"relu\")(x)\n",
    "        # anoter drop out layer for regularization (25% probability)\n",
    "        x = Dropout(rate=0.3,seed=0.25)(x)\n",
    "        # a second fully-connected layer to map the features to a logit vector with one logit per subject\n",
    "        x = Dense(1)(x)\n",
    "        # use softmax activation to convert the logits to class probabilities for each subject\n",
    "        predictions = Activation(\"sigmoid\")(x)\n",
    "\n",
    "        # create the model using the layers we defined previously\n",
    "        sample_cnn = Model(inputs=images, outputs=predictions)\n",
    "\n",
    "        # compile the model so that it uses Adam for optimization during training with cross-entropy loss\n",
    "        sample_cnn.compile(optimizer=Adam(), loss=\"binary_crossentropy\", metrics=[\"acc\"])\n",
    "\n",
    "        # print out a summary of the model achitecture\n",
    "        print(sample_cnn.summary())\n",
    "\n",
    "except RuntimeError as e:\n",
    "  print(e)"
   ]
  },
  {
   "cell_type": "code",
   "execution_count": 40,
   "metadata": {},
   "outputs": [
    {
     "name": "stdout",
     "output_type": "stream",
     "text": [
      "Epoch 1/10\n",
      "1110/1110 [==============================] - 25s 23ms/step - loss: 0.6392 - acc: 0.7505 - val_loss: 0.5757 - val_acc: 0.7471\n",
      "Epoch 2/10\n",
      "1110/1110 [==============================] - 24s 22ms/step - loss: 0.5616 - acc: 0.7541 - val_loss: 0.5656 - val_acc: 0.7471\n",
      "Epoch 3/10\n",
      "1110/1110 [==============================] - 24s 22ms/step - loss: 0.5579 - acc: 0.7541 - val_loss: 0.5656 - val_acc: 0.7471\n",
      "Epoch 4/10\n",
      "1110/1110 [==============================] - 24s 22ms/step - loss: 0.5578 - acc: 0.7541 - val_loss: 0.5657 - val_acc: 0.7471\n",
      "Epoch 5/10\n",
      "1110/1110 [==============================] - 24s 22ms/step - loss: 0.5578 - acc: 0.7541 - val_loss: 0.5657 - val_acc: 0.7471\n",
      "Epoch 6/10\n",
      "1110/1110 [==============================] - 24s 22ms/step - loss: 0.5578 - acc: 0.7541 - val_loss: 0.5656 - val_acc: 0.7471\n",
      "Epoch 7/10\n",
      "1110/1110 [==============================] - 24s 22ms/step - loss: 0.5578 - acc: 0.7541 - val_loss: 0.5656 - val_acc: 0.7471\n",
      "Epoch 8/10\n",
      "1110/1110 [==============================] - 24s 22ms/step - loss: 0.5578 - acc: 0.7541 - val_loss: 0.5657 - val_acc: 0.7471\n",
      "Epoch 9/10\n",
      "1110/1110 [==============================] - 24s 22ms/step - loss: 0.5578 - acc: 0.7541 - val_loss: 0.5657 - val_acc: 0.7471\n",
      "Epoch 10/10\n",
      "1110/1110 [==============================] - 24s 22ms/step - loss: 0.5578 - acc: 0.7541 - val_loss: 0.5658 - val_acc: 0.7471\n"
     ]
    }
   ],
   "source": [
    "# class_weights = compute_class_weight(\"balanced\", np.unique(train_y), train_y)\n",
    "# class_weights = dict(enumerate(class_weights))\n",
    "try:  \n",
    "    with tf.device('/device:GPU:7'):\n",
    "        # train model\n",
    "        history = sample_cnn.fit(train_x, train_y, validation_data=(test_x, test_y), epochs=10, verbose=1)\n",
    "except RuntimeError as e:\n",
    "  print(e)"
   ]
  },
  {
   "cell_type": "code",
   "execution_count": 47,
   "metadata": {},
   "outputs": [],
   "source": [
    "# try:  \n",
    "#     with tf.device('/device:GPU:7'):\n",
    "#         # evaluate model, get train/test accuracy\n",
    "#         train_pred = np.array(sample_cnn.predict(train_x))\n",
    "#         test_pred = np.array(sample_cnn.predict(test_x))\n",
    "#         print(\"\\nTraining accuracy using sample CNN model: {}\".format(accuracy_score(train_y, train_pred)))\n",
    "#         print(\"Testing accuracy using sample CNN model: {}\\n\".format(accuracy_score(test_y, test_pred)))\n",
    "# except RuntimeError as e:\n",
    "#   print(e)"
   ]
  },
  {
   "cell_type": "code",
   "execution_count": 59,
   "metadata": {},
   "outputs": [
    {
     "name": "stdout",
     "output_type": "stream",
     "text": [
      "[[1.]\n",
      " [1.]\n",
      " [1.]\n",
      " ...\n",
      " [1.]\n",
      " [1.]\n",
      " [1.]]\n"
     ]
    }
   ],
   "source": [
    "try:  \n",
    "    with tf.device('/device:GPU:7'):\n",
    "        test_pred = sample_cnn.predict(test_x)\n",
    "        for i in test_pred:\n",
    "            if i[0] >= 0.5:\n",
    "                i[0] = 1\n",
    "            else:\n",
    "                i[0] = 0\n",
    "        print(test_pred)\n",
    "except RuntimeError as e:\n",
    "  print(e)"
   ]
  },
  {
   "cell_type": "code",
   "execution_count": 57,
   "metadata": {},
   "outputs": [
    {
     "data": {
      "text/plain": [
       "array([1., 0., 1., ..., 1., 1., 1.])"
      ]
     },
     "execution_count": 57,
     "metadata": {},
     "output_type": "execute_result"
    }
   ],
   "source": [
    "test_y"
   ]
  },
  {
   "cell_type": "code",
   "execution_count": 62,
   "metadata": {},
   "outputs": [
    {
     "name": "stdout",
     "output_type": "stream",
     "text": [
      "              precision    recall  f1-score   support\n",
      "\n",
      "         0.0       0.00      0.00      0.00       998\n",
      "         1.0       0.75      1.00      0.86      2948\n",
      "\n",
      "    accuracy                           0.75      3946\n",
      "   macro avg       0.37      0.50      0.43      3946\n",
      "weighted avg       0.56      0.75      0.64      3946\n",
      "\n",
      "[[   0  998]\n",
      " [   0 2948]]\n"
     ]
    },
    {
     "name": "stderr",
     "output_type": "stream",
     "text": [
      "/usr/local/lib/python3.8/dist-packages/sklearn/metrics/_classification.py:1221: UndefinedMetricWarning: Precision and F-score are ill-defined and being set to 0.0 in labels with no predicted samples. Use `zero_division` parameter to control this behavior.\n",
      "  _warn_prf(average, modifier, msg_start, len(result))\n"
     ]
    }
   ],
   "source": [
    "print(classification_report(test_y,test_pred))\n",
    "print(confusion_matrix(test_y,test_pred))"
   ]
  },
  {
   "cell_type": "code",
   "execution_count": 58,
   "metadata": {},
   "outputs": [
    {
     "data": {
      "text/plain": [
       "array([[1.],\n",
       "       [1.],\n",
       "       [1.],\n",
       "       ...,\n",
       "       [1.],\n",
       "       [1.],\n",
       "       [1.]], dtype=float32)"
      ]
     },
     "execution_count": 58,
     "metadata": {},
     "output_type": "execute_result"
    }
   ],
   "source": [
    "# for i in test_pred:\n",
    "#     if i[0] >= 0.5:\n",
    "#         i[0] = 1\n",
    "#     else:\n",
    "#         i[0] = 0\n",
    "# test_pred"
   ]
  },
  {
   "cell_type": "code",
   "execution_count": 43,
   "metadata": {},
   "outputs": [
    {
     "data": {
      "text/plain": [
       "dict_keys(['loss', 'acc', 'val_loss', 'val_acc'])"
      ]
     },
     "execution_count": 43,
     "metadata": {},
     "output_type": "execute_result"
    }
   ],
   "source": [
    "history.history.keys()"
   ]
  },
  {
   "cell_type": "code",
   "execution_count": 44,
   "metadata": {},
   "outputs": [
    {
     "data": {
      "image/png": "[encoded data removed]",
      "text/plain": [
       "<Figure size 432x288 with 1 Axes>"
      ]
     },
     "metadata": {
      "needs_background": "light"
     },
     "output_type": "display_data"
    },
    {
     "data": {
      "image/png": "[encoded data removed]",
      "text/plain": [
       "<Figure size 432x288 with 1 Axes>"
      ]
     },
     "metadata": {
      "needs_background": "light"
     },
     "output_type": "display_data"
    }
   ],
   "source": [
    "# summarize history for accuracy\n",
    "plt.plot(history.history['acc'])\n",
    "plt.plot(history.history['val_acc'])\n",
    "plt.title('model accuracy')\n",
    "plt.ylabel('accuracy')\n",
    "plt.xlabel('epoch')\n",
    "plt.legend(['train', 'test'], loc='upper left')\n",
    "plt.show()\n",
    "# summarize history for loss\n",
    "plt.plot(history.history['loss'])\n",
    "plt.plot(history.history['val_loss'])\n",
    "plt.title('model loss')\n",
    "plt.ylabel('loss')\n",
    "plt.xlabel('epoch')\n",
    "plt.legend(['train', 'test'], loc='upper left')\n",
    "plt.show()"
   ]
  },
  {
   "cell_type": "code",
   "execution_count": 63,
   "metadata": {},
   "outputs": [
    {
     "name": "stdout",
     "output_type": "stream",
     "text": [
      "WARNING:tensorflow:From /usr/local/lib/python3.8/dist-packages/tensorflow/python/training/tracking/tracking.py:111: Model.state_updates (from tensorflow.python.keras.engine.training) is deprecated and will be removed in a future version.\n",
      "Instructions for updating:\n",
      "This property should not be used in TensorFlow 2.0, as updates are applied automatically.\n",
      "WARNING:tensorflow:From /usr/local/lib/python3.8/dist-packages/tensorflow/python/training/tracking/tracking.py:111: Layer.updates (from tensorflow.python.keras.engine.base_layer) is deprecated and will be removed in a future version.\n",
      "Instructions for updating:\n",
      "This property should not be used in TensorFlow 2.0, as updates are applied automatically.\n",
      "INFO:tensorflow:Assets written to: Project/cnn1_model/assets\n"
     ]
    }
   ],
   "source": [
    "# sample_cnn.save(\"Project/cnn1_model\")"
   ]
  },
  {
   "cell_type": "code",
   "execution_count": null,
   "metadata": {},
   "outputs": [],
   "source": []
  }
 ],
 "metadata": {
  "colab": {
   "collapsed_sections": [],
   "name": "Gender_Model.ipynb",
   "provenance": []
  },
  "kernelspec": {
   "display_name": "Python 3",
   "language": "python",
   "name": "python3"
  },
  "language_info": {
   "codemirror_mode": {
    "name": "ipython",
    "version": 3
   },
   "file_extension": ".py",
   "mimetype": "text/x-python",
   "name": "python",
   "nbconvert_exporter": "python",
   "pygments_lexer": "ipython3",
   "version": "3.8.5"
  }
 },
 "nbformat": 4,
 "nbformat_minor": 1
}
