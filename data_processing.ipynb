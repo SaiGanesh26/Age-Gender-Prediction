{
 "cells": [
  {
   "cell_type": "code",
   "execution_count": 118,
   "metadata": {
    "id": "NIq4VpSv7Kaz"
   },
   "outputs": [],
   "source": [
    "#import cv2\n",
    "import numpy as np\n",
    "import matplotlib.pyplot as plt\n",
    "%matplotlib inline\n",
    "import seaborn as sns\n",
    "from scipy import io\n",
    "import pandas as pd\n",
    "from datetime import datetime,timedelta"
   ]
  },
  {
   "cell_type": "code",
   "execution_count": 119,
   "metadata": {
    "id": "C_fj5C3Z0rNv"
   },
   "outputs": [],
   "source": [
    "# loading the wiki.mat file from drive to process it\n",
    "data = io.loadmat(\"data/wiki_crop/wiki.mat\")\n",
    "\n",
    "# loading the imdb.mat file from drive to process it, we take some female images from imdb as wiki do not have equal amount of male and female images \n",
    "data1 = io.loadmat(\"data/imdb_crop/imdb.mat\")"
   ]
  },
  {
   "cell_type": "code",
   "execution_count": 120,
   "metadata": {
    "colab": {
     "base_uri": "https://localhost:8080/"
    },
    "id": "ErZRUB1l1r-R",
    "outputId": "b5c3b9b6-65f4-41f9-fade-e806e62cb0b0"
   },
   "outputs": [
    {
     "name": "stdout",
     "output_type": "stream",
     "text": [
      "wiki  dict_keys(['__header__', '__version__', '__globals__', 'wiki'])\n",
      "imdb  dict_keys(['__header__', '__version__', '__globals__', 'imdb'])\n"
     ]
    }
   ],
   "source": [
    "print(\"wiki \",data.keys())\n",
    "print(\"imdb \",data1.keys())"
   ]
  },
  {
   "cell_type": "code",
   "execution_count": 121,
   "metadata": {
    "colab": {
     "base_uri": "https://localhost:8080/"
    },
    "id": "jbIDNpI418vK",
    "outputId": "6b339059-c707-4a3f-b180-fc3e6254a684"
   },
   "outputs": [
    {
     "name": "stdout",
     "output_type": "stream",
     "text": [
      "[[(array([[723671, 703186, 711677, ..., 720620, 723893, 713846]], dtype=int32), array([[2009, 1964, 2008, ..., 2013, 2011, 2008]], dtype=uint16), array([[array(['17/10000217_1981-05-05_2009.jpg'], dtype='<U31'),\n",
      "        array(['48/10000548_1925-04-04_1964.jpg'], dtype='<U31'),\n",
      "        array(['12/100012_1948-07-03_2008.jpg'], dtype='<U29'), ...,\n",
      "        array(['09/9998109_1972-12-27_2013.jpg'], dtype='<U30'),\n",
      "        array(['00/9999400_1981-12-13_2011.jpg'], dtype='<U30'),\n",
      "        array(['80/999980_1954-06-11_2008.jpg'], dtype='<U29')]],\n",
      "      dtype=object), array([[1., 1., 1., ..., 1., 1., 0.]]), array([[array(['Sami Jauhojärvi'], dtype='<U15'),\n",
      "        array(['Dettmar Cramer'], dtype='<U14'),\n",
      "        array(['Marc Okrand'], dtype='<U11'), ...,\n",
      "        array(['Michael Wiesinger'], dtype='<U17'),\n",
      "        array(['Johann Grugger'], dtype='<U14'),\n",
      "        array(['Greta Van Susteren'], dtype='<U18')]], dtype=object), array([[array([[111.29109473, 111.29109473, 252.66993082, 252.66993082]]),\n",
      "        array([[252.4833023 , 126.68165115, 354.53192596, 228.73027481]]),\n",
      "        array([[113.52, 169.84, 366.08, 422.4 ]]), ...,\n",
      "        array([[169.88839786,  74.31669472, 235.2534231 , 139.68171997]]),\n",
      "        array([[1, 1, 1, 1]], dtype=uint8),\n",
      "        array([[ 92.72633235,  62.0435549 , 230.12083087, 199.43805342]])]],\n",
      "      dtype=object), array([[4.30096239, 2.6456395 , 4.32932883, ..., 3.49430317,       -inf,\n",
      "        5.48691655]]), array([[       nan, 1.94924791,        nan, ...,        nan,        nan,\n",
      "               nan]]))]]\n",
      "\n",
      "\n",
      "[[(array([[693726, 693726, 693726, ..., 726831, 726831, 726831]], dtype=int32), array([[1968, 1970, 1968, ..., 2011, 2011, 2011]], dtype=uint16), array([[array(['01/nm0000001_rm124825600_1899-5-10_1968.jpg'], dtype='<U43'),\n",
      "        array(['01/nm0000001_rm3343756032_1899-5-10_1970.jpg'], dtype='<U44'),\n",
      "        array(['01/nm0000001_rm577153792_1899-5-10_1968.jpg'], dtype='<U43'),\n",
      "        ...,\n",
      "        array(['08/nm3994408_rm926592512_1989-12-29_2011.jpg'], dtype='<U44'),\n",
      "        array(['08/nm3994408_rm943369728_1989-12-29_2011.jpg'], dtype='<U44'),\n",
      "        array(['08/nm3994408_rm976924160_1989-12-29_2011.jpg'], dtype='<U44')]],\n",
      "      dtype=object), array([[1., 1., 1., ..., 0., 0., 0.]]), array([[array(['Fred Astaire'], dtype='<U12'),\n",
      "        array(['Fred Astaire'], dtype='<U12'),\n",
      "        array(['Fred Astaire'], dtype='<U12'), ...,\n",
      "        array(['Jane Levy'], dtype='<U9'),\n",
      "        array(['Jane Levy'], dtype='<U9'),\n",
      "        array(['Jane Levy'], dtype='<U9')]], dtype=object), array([[array([[1072.926,  161.838, 1214.784,  303.696]]),\n",
      "        array([[477.184, 100.352, 622.592, 245.76 ]]),\n",
      "        array([[114.96964309, 114.96964309, 451.68657236, 451.68657236]]),\n",
      "        ..., array([[  1,   1, 453, 640]], dtype=uint16),\n",
      "        array([[144.75225472, 126.76472288, 305.78804127, 287.80050943]]),\n",
      "        array([[457.524,  41.748, 518.016, 102.24 ]])]], dtype=object), array([[1.45969291, 2.5431976 , 3.45557949, ...,       -inf, 4.45072452,\n",
      "        2.13350269]]), array([[1.11897336, 1.85200773, 2.98566022, ...,        nan,        nan,\n",
      "               nan]]), array([[array([\"'Lee' George Quinones\"], dtype='<U21'),\n",
      "        array([\"'Weird Al' Yankovic\"], dtype='<U19'),\n",
      "        array(['2 Chainz'], dtype='<U8'), ...,\n",
      "        array(['Éric Caravaca'], dtype='<U13'),\n",
      "        array(['Ólafur Darri Ólafsson'], dtype='<U21'),\n",
      "        array(['Óscar Jaenada'], dtype='<U13')]], dtype=object), array([[6488, 6488, 6488, ..., 8410, 8410, 8410]], dtype=uint16))]]\n"
     ]
    }
   ],
   "source": [
    "# since we need only the wiki data from the dictionary\n",
    "wiki = data['wiki']\n",
    "print(wiki)\n",
    "\n",
    "print(\"\\n\")\n",
    "\n",
    "# since we need only the wiki data from the dictionary\n",
    "imdb = data1['imdb']\n",
    "print(imdb)"
   ]
  },
  {
   "cell_type": "code",
   "execution_count": 122,
   "metadata": {
    "id": "50oizfKA3X4K"
   },
   "outputs": [],
   "source": [
    "#It can be observed that all the elements are stored in arrays, we separate them by storing each type of data with its respective name\n",
    "\n",
    "# dob represents date of birth\n",
    "dob = wiki[0][0][0][0]\n",
    "dob1 = imdb[0][0][0][0]\n",
    "\n",
    "#this represent the year when the photo was taken\n",
    "photo_taken = wiki[0][0][1][0]\n",
    "photo_taken1 = imdb[0][0][1][0]\n",
    "\n",
    "#full_path has the path of each image\n",
    "full_path = wiki[0][0][2][0]\n",
    "full_path1 = imdb[0][0][2][0]\n",
    "\n",
    "#gender variable represents the gender type of each photo, 0 for female and 1 for male, NaN if unknown\n",
    "gender = wiki[0][0][3][0]\n",
    "gender1 = imdb[0][0][3][0]\n",
    " \n",
    "#we do not need face locations since the images are already cropped images \n",
    "\n",
    "# face score 1 represents if any face is present in the image or not, if no face is present in the image then value will be \"-inf\"\n",
    "face_score1 = wiki[0][0][6][0]\n",
    "face_score1_1 = imdb[0][0][6][0]\n",
    "\n",
    "# face score 2 represents if any image has multiple faces or not, if value is nan then there are no multiple faces, score represents multiple faces are in the image  \n",
    "face_score2 = wiki[0][0][7][0]\n",
    "face_score2_1 = imdb[0][0][7][0]"
   ]
  },
  {
   "cell_type": "code",
   "execution_count": 123,
   "metadata": {
    "colab": {
     "base_uri": "https://localhost:8080/"
    },
    "id": "_NvR0s0EV2Ef",
    "outputId": "aa8f93d2-df31-4fdf-b37c-949566b09a79"
   },
   "outputs": [
    {
     "name": "stdout",
     "output_type": "stream",
     "text": [
      "[723671 703186 711677 ... 720620 723893 713846]\n",
      "[array(['17/10000217_1981-05-05_2009.jpg'], dtype='<U31')\n",
      " array(['48/10000548_1925-04-04_1964.jpg'], dtype='<U31')\n",
      " array(['12/100012_1948-07-03_2008.jpg'], dtype='<U29') ...\n",
      " array(['09/9998109_1972-12-27_2013.jpg'], dtype='<U30')\n",
      " array(['00/9999400_1981-12-13_2011.jpg'], dtype='<U30')\n",
      " array(['80/999980_1954-06-11_2008.jpg'], dtype='<U29')]\n"
     ]
    }
   ],
   "source": [
    "print(dob)\n",
    "print(full_path)"
   ]
  },
  {
   "cell_type": "code",
   "execution_count": 124,
   "metadata": {
    "id": "cP2azklmjl90"
   },
   "outputs": [],
   "source": [
    "dob = np.array(dob,dtype=np.int64)\n",
    "dob1 = np.array(dob1,dtype=np.int64)\n",
    "\n",
    "dob_year = []\n",
    "dob_year1 = []\n",
    "\n",
    "#converting each serial number to year format by using datetime library, we need only year from dob to get the age by subtracting it from photo taken year \n",
    "for serial in dob:\n",
    "  year = int(datetime.fromordinal(int(serial)).strftime(\"%Y\"))\n",
    "  dob_year.append(year)\n",
    "    \n",
    "for serial in dob1:\n",
    "  year = int(datetime.fromordinal(int(serial)).strftime(\"%Y\"))\n",
    "  dob_year1.append(year)"
   ]
  },
  {
   "cell_type": "code",
   "execution_count": 125,
   "metadata": {
    "colab": {
     "base_uri": "https://localhost:8080/"
    },
    "id": "Du6Iak3smiaI",
    "outputId": "aeedeedd-0742-4a51-d44f-a73d25a8b326"
   },
   "outputs": [
    {
     "name": "stdout",
     "output_type": "stream",
     "text": [
      "Year of birth 1982\n",
      "Year photo taken 2009\n"
     ]
    }
   ],
   "source": [
    "print(\"Year of birth\",dob_year[0]) # lets see the date of birth of first image\n",
    "print(\"Year photo taken\",photo_taken[0]) #lets see the the year when the photo is taken"
   ]
  },
  {
   "cell_type": "code",
   "execution_count": 126,
   "metadata": {
    "colab": {
     "base_uri": "https://localhost:8080/"
    },
    "id": "mUexXf0Ui4EC",
    "outputId": "eaa8a5df-26a1-4d44-b17b-80e4fb2a788e"
   },
   "outputs": [
    {
     "name": "stdout",
     "output_type": "stream",
     "text": [
      "Year of birth 1900\n",
      "Year photo taken 1968\n"
     ]
    }
   ],
   "source": [
    "print(\"Year of birth\",dob_year1[0]) # lets see the date of birth of first image\n",
    "print(\"Year photo taken\",photo_taken1[0]) #lets see the the year when the photo is taken"
   ]
  },
  {
   "cell_type": "code",
   "execution_count": 127,
   "metadata": {
    "id": "s8miBesWFJwF"
   },
   "outputs": [],
   "source": [
    "# since we can observe that image paths are further stored in array format, the following is done\n",
    "img_path = []\n",
    "img_path1 = []\n",
    "\n",
    "for path in full_path:\n",
    "  img_path.append(path[0])\n",
    "\n",
    "for path in full_path1:\n",
    "  img_path1.append(path[0])"
   ]
  },
  {
   "cell_type": "code",
   "execution_count": 128,
   "metadata": {
    "id": "cvYcA1mFV9sw"
   },
   "outputs": [],
   "source": [
    "#img_path"
   ]
  },
  {
   "cell_type": "code",
   "execution_count": 129,
   "metadata": {
    "id": "As005e7_mmGo"
   },
   "outputs": [],
   "source": [
    "dob = np.array(dob_year)\n",
    "dob1 = np.array(dob_year1)"
   ]
  },
  {
   "cell_type": "code",
   "execution_count": 130,
   "metadata": {
    "id": "PxwLAtWnHpoM"
   },
   "outputs": [],
   "source": [
    "# stacking up all the data we need in our project \n",
    "final_wiki = np.vstack((dob,photo_taken,gender, img_path, face_score1, face_score2)).T\n",
    "\n",
    "final_imdb = np.vstack((dob1,photo_taken1,gender1, img_path1, face_score1_1, face_score2_1)).T"
   ]
  },
  {
   "cell_type": "code",
   "execution_count": 131,
   "metadata": {
    "id": "dT7m0N47FkkN"
   },
   "outputs": [],
   "source": [
    "# converting the stacked array to dataframe\n",
    "data = pd.DataFrame(final_wiki)\n",
    "\n",
    "data1 = pd.DataFrame(final_imdb)"
   ]
  },
  {
   "cell_type": "code",
   "execution_count": 132,
   "metadata": {
    "id": "C-kh7_lnU8Xt"
   },
   "outputs": [],
   "source": [
    "#assigning the column names\n",
    "cols = [\"dob\",\"photo_taken\",'gender', 'img_path', 'face_score1', 'face_score2']\n",
    "data.columns = cols\n",
    "data1.columns = cols"
   ]
  },
  {
   "cell_type": "code",
   "execution_count": 133,
   "metadata": {
    "id": "H8STTwD7FmMZ"
   },
   "outputs": [],
   "source": [
    "# choosing data where the face score1 is not equal to \"inf\" and with face_score2 value \"nan\"\n",
    "data = data[data['face_score1'] != '-inf']\n",
    "data1 = data1[data1['face_score1'] != '-inf']\n",
    "\n",
    "data = data[data['face_score2'] == 'nan']\n",
    "data1 = data1[data1['face_score2'] == 'nan']\n",
    "\n",
    "# removing data where gender value is \"nan\"\n",
    "data = data[data['gender'] != 'nan']\n",
    "data1 = data1[data1['gender'] != 'nan']\n",
    "\n",
    "#Converting dob and photo taken columns to numeric so that we can calculate age\n",
    "data[[\"dob\", \"photo_taken\",\"gender\"]] = data[[\"dob\", \"photo_taken\",\"gender\"]].apply(pd.to_numeric)\n",
    "data1[[\"dob\", \"photo_taken\",\"gender\"]] = data1[[\"dob\", \"photo_taken\",\"gender\"]].apply(pd.to_numeric)"
   ]
  },
  {
   "cell_type": "code",
   "execution_count": 134,
   "metadata": {
    "id": "Y5cPf4bAm1mx"
   },
   "outputs": [],
   "source": [
    "# we just need the age, so that we can drop off dob and photo taken years\n",
    "\n",
    "data[\"age\"] = data[\"photo_taken\"] - data[\"dob\"]\n",
    "\n",
    "data1[\"age\"] = data1[\"photo_taken\"] - data1[\"dob\"]"
   ]
  },
  {
   "cell_type": "code",
   "execution_count": 135,
   "metadata": {
    "colab": {
     "base_uri": "https://localhost:8080/",
     "height": 195
    },
    "id": "She2xLn9po_P",
    "outputId": "384ce601-30a9-4919-9496-0cf86a044f49"
   },
   "outputs": [
    {
     "data": {
      "text/html": [
       "<div>\n",
       "<style scoped>\n",
       "    .dataframe tbody tr th:only-of-type {\n",
       "        vertical-align: middle;\n",
       "    }\n",
       "\n",
       "    .dataframe tbody tr th {\n",
       "        vertical-align: top;\n",
       "    }\n",
       "\n",
       "    .dataframe thead th {\n",
       "        text-align: right;\n",
       "    }\n",
       "</style>\n",
       "<table border=\"1\" class=\"dataframe\">\n",
       "  <thead>\n",
       "    <tr style=\"text-align: right;\">\n",
       "      <th></th>\n",
       "      <th>dob</th>\n",
       "      <th>photo_taken</th>\n",
       "      <th>gender</th>\n",
       "      <th>img_path</th>\n",
       "      <th>face_score1</th>\n",
       "      <th>face_score2</th>\n",
       "      <th>age</th>\n",
       "    </tr>\n",
       "  </thead>\n",
       "  <tbody>\n",
       "    <tr>\n",
       "      <th>0</th>\n",
       "      <td>1982</td>\n",
       "      <td>2009</td>\n",
       "      <td>1.0</td>\n",
       "      <td>17/10000217_1981-05-05_2009.jpg</td>\n",
       "      <td>4.3009623883308095</td>\n",
       "      <td>nan</td>\n",
       "      <td>27</td>\n",
       "    </tr>\n",
       "    <tr>\n",
       "      <th>2</th>\n",
       "      <td>1949</td>\n",
       "      <td>2008</td>\n",
       "      <td>1.0</td>\n",
       "      <td>12/100012_1948-07-03_2008.jpg</td>\n",
       "      <td>4.329328832406529</td>\n",
       "      <td>nan</td>\n",
       "      <td>59</td>\n",
       "    </tr>\n",
       "    <tr>\n",
       "      <th>4</th>\n",
       "      <td>1972</td>\n",
       "      <td>2012</td>\n",
       "      <td>0.0</td>\n",
       "      <td>16/10002116_1971-05-31_2012.jpg</td>\n",
       "      <td>3.408442415222501</td>\n",
       "      <td>nan</td>\n",
       "      <td>40</td>\n",
       "    </tr>\n",
       "    <tr>\n",
       "      <th>5</th>\n",
       "      <td>1961</td>\n",
       "      <td>2012</td>\n",
       "      <td>0.0</td>\n",
       "      <td>02/10002702_1960-11-09_2012.jpg</td>\n",
       "      <td>4.748056377951486</td>\n",
       "      <td>nan</td>\n",
       "      <td>51</td>\n",
       "    </tr>\n",
       "    <tr>\n",
       "      <th>6</th>\n",
       "      <td>1938</td>\n",
       "      <td>1971</td>\n",
       "      <td>1.0</td>\n",
       "      <td>41/10003541_1937-09-27_1971.jpg</td>\n",
       "      <td>4.1848283121533445</td>\n",
       "      <td>nan</td>\n",
       "      <td>33</td>\n",
       "    </tr>\n",
       "  </tbody>\n",
       "</table>\n",
       "</div>"
      ],
      "text/plain": [
       "    dob  photo_taken  gender                         img_path  \\\n",
       "0  1982         2009     1.0  17/10000217_1981-05-05_2009.jpg   \n",
       "2  1949         2008     1.0    12/100012_1948-07-03_2008.jpg   \n",
       "4  1972         2012     0.0  16/10002116_1971-05-31_2012.jpg   \n",
       "5  1961         2012     0.0  02/10002702_1960-11-09_2012.jpg   \n",
       "6  1938         1971     1.0  41/10003541_1937-09-27_1971.jpg   \n",
       "\n",
       "          face_score1 face_score2  age  \n",
       "0  4.3009623883308095         nan   27  \n",
       "2   4.329328832406529         nan   59  \n",
       "4   3.408442415222501         nan   40  \n",
       "5   4.748056377951486         nan   51  \n",
       "6  4.1848283121533445         nan   33  "
      ]
     },
     "execution_count": 135,
     "metadata": {},
     "output_type": "execute_result"
    }
   ],
   "source": [
    "data.head()"
   ]
  },
  {
   "cell_type": "code",
   "execution_count": 136,
   "metadata": {},
   "outputs": [
    {
     "data": {
      "text/html": [
       "<div>\n",
       "<style scoped>\n",
       "    .dataframe tbody tr th:only-of-type {\n",
       "        vertical-align: middle;\n",
       "    }\n",
       "\n",
       "    .dataframe tbody tr th {\n",
       "        vertical-align: top;\n",
       "    }\n",
       "\n",
       "    .dataframe thead th {\n",
       "        text-align: right;\n",
       "    }\n",
       "</style>\n",
       "<table border=\"1\" class=\"dataframe\">\n",
       "  <thead>\n",
       "    <tr style=\"text-align: right;\">\n",
       "      <th></th>\n",
       "      <th>dob</th>\n",
       "      <th>photo_taken</th>\n",
       "      <th>gender</th>\n",
       "      <th>img_path</th>\n",
       "      <th>face_score1</th>\n",
       "      <th>face_score2</th>\n",
       "      <th>age</th>\n",
       "    </tr>\n",
       "  </thead>\n",
       "  <tbody>\n",
       "    <tr>\n",
       "      <th>3</th>\n",
       "      <td>1900</td>\n",
       "      <td>1968</td>\n",
       "      <td>1.0</td>\n",
       "      <td>01/nm0000001_rm946909184_1899-5-10_1968.jpg</td>\n",
       "      <td>1.872117169344902</td>\n",
       "      <td>nan</td>\n",
       "      <td>68</td>\n",
       "    </tr>\n",
       "    <tr>\n",
       "      <th>4</th>\n",
       "      <td>1900</td>\n",
       "      <td>1968</td>\n",
       "      <td>1.0</td>\n",
       "      <td>01/nm0000001_rm980463616_1899-5-10_1968.jpg</td>\n",
       "      <td>1.1587657871914132</td>\n",
       "      <td>nan</td>\n",
       "      <td>68</td>\n",
       "    </tr>\n",
       "    <tr>\n",
       "      <th>6</th>\n",
       "      <td>1925</td>\n",
       "      <td>2004</td>\n",
       "      <td>0.0</td>\n",
       "      <td>02/nm0000002_rm1346607872_1924-9-16_2004.jpg</td>\n",
       "      <td>3.4791889134154426</td>\n",
       "      <td>nan</td>\n",
       "      <td>79</td>\n",
       "    </tr>\n",
       "    <tr>\n",
       "      <th>7</th>\n",
       "      <td>1925</td>\n",
       "      <td>2004</td>\n",
       "      <td>0.0</td>\n",
       "      <td>02/nm0000002_rm1363385088_1924-9-16_2004.jpg</td>\n",
       "      <td>3.87017062712482</td>\n",
       "      <td>nan</td>\n",
       "      <td>79</td>\n",
       "    </tr>\n",
       "    <tr>\n",
       "      <th>12</th>\n",
       "      <td>1925</td>\n",
       "      <td>1974</td>\n",
       "      <td>0.0</td>\n",
       "      <td>02/nm0000002_rm221957120_1924-9-16_1974.jpg</td>\n",
       "      <td>4.0964305784174595</td>\n",
       "      <td>nan</td>\n",
       "      <td>49</td>\n",
       "    </tr>\n",
       "  </tbody>\n",
       "</table>\n",
       "</div>"
      ],
      "text/plain": [
       "     dob  photo_taken  gender                                      img_path  \\\n",
       "3   1900         1968     1.0   01/nm0000001_rm946909184_1899-5-10_1968.jpg   \n",
       "4   1900         1968     1.0   01/nm0000001_rm980463616_1899-5-10_1968.jpg   \n",
       "6   1925         2004     0.0  02/nm0000002_rm1346607872_1924-9-16_2004.jpg   \n",
       "7   1925         2004     0.0  02/nm0000002_rm1363385088_1924-9-16_2004.jpg   \n",
       "12  1925         1974     0.0   02/nm0000002_rm221957120_1924-9-16_1974.jpg   \n",
       "\n",
       "           face_score1 face_score2  age  \n",
       "3    1.872117169344902         nan   68  \n",
       "4   1.1587657871914132         nan   68  \n",
       "6   3.4791889134154426         nan   79  \n",
       "7     3.87017062712482         nan   79  \n",
       "12  4.0964305784174595         nan   49  "
      ]
     },
     "execution_count": 136,
     "metadata": {},
     "output_type": "execute_result"
    }
   ],
   "source": [
    "data1.head()"
   ]
  },
  {
   "cell_type": "code",
   "execution_count": 137,
   "metadata": {
    "id": "qZ7gyllLVfLz"
   },
   "outputs": [],
   "source": [
    "# now the face score 1 and 2 are not required we can just drop them\n",
    "data = data.drop([\"dob\",\"photo_taken\",\"face_score1\", 'face_score2'], axis=1)\n",
    "\n",
    "data1 = data1.drop([\"dob\",\"photo_taken\",\"face_score1\", 'face_score2'], axis=1)"
   ]
  },
  {
   "cell_type": "code",
   "execution_count": 138,
   "metadata": {
    "colab": {
     "base_uri": "https://localhost:8080/",
     "height": 352
    },
    "id": "-hqyIPf1eUW4",
    "outputId": "e24465ea-3e13-4237-9632-69c471bf78e5"
   },
   "outputs": [
    {
     "data": {
      "text/plain": [
       "<AxesSubplot:xlabel='gender', ylabel='count'>"
      ]
     },
     "execution_count": 138,
     "metadata": {},
     "output_type": "execute_result"
    },
    {
     "data": {
      "image/png": "[encoded data removed]",
      "text/plain": [
       "<Figure size 432x288 with 1 Axes>"
      ]
     },
     "metadata": {
      "needs_background": "light"
     },
     "output_type": "display_data"
    }
   ],
   "source": [
    "# A count plot displaying the number of male and female image we have\n",
    "sns.countplot(data[\"gender\"]) #It can be observed that there is unequal distribution of data, so I will drop some male images and add female to make sure the total count is nearly 40,000 in total"
   ]
  },
  {
   "cell_type": "code",
   "execution_count": 139,
   "metadata": {},
   "outputs": [
    {
     "data": {
      "text/plain": [
       "<AxesSubplot:xlabel='gender', ylabel='count'>"
      ]
     },
     "execution_count": 139,
     "metadata": {},
     "output_type": "execute_result"
    },
    {
     "data": {
      "image/png": "[encoded data removed]",
      "text/plain": [
       "<Figure size 432x288 with 1 Axes>"
      ]
     },
     "metadata": {
      "needs_background": "light"
     },
     "output_type": "display_data"
    }
   ],
   "source": [
    "sns.countplot(data1[\"gender\"])"
   ]
  },
  {
   "cell_type": "code",
   "execution_count": 140,
   "metadata": {},
   "outputs": [
    {
     "name": "stdout",
     "output_type": "stream",
     "text": [
      "56\n"
     ]
    }
   ],
   "source": [
    "count = 0 # \n",
    "for k in data[\"age\"]:\n",
    "    if k <= 0 or k>100:\n",
    "        idx = data[data[\"age\"]==k].index.values\n",
    "        data = data.drop(idx)\n",
    "        count += 1\n",
    "print(count) # It can bee seen there are some images where the age is less than zero and greater than 100, so just dropping those images"
   ]
  },
  {
   "cell_type": "code",
   "execution_count": 141,
   "metadata": {},
   "outputs": [
    {
     "name": "stdout",
     "output_type": "stream",
     "text": [
      "0\n"
     ]
    }
   ],
   "source": [
    "count = 0 # \n",
    "for k in data[\"age\"]:\n",
    "    if k <= 0 or k>100:\n",
    "        count += 1\n",
    "print(count)"
   ]
  },
  {
   "cell_type": "code",
   "execution_count": 142,
   "metadata": {},
   "outputs": [
    {
     "data": {
      "text/plain": [
       "(array([   84.,  4982., 13766.,  7082.,  4856.,  4056.,  2581.,  1336.,\n",
       "          545.,   111.]),\n",
       " array([  2. ,  11.8,  21.6,  31.4,  41.2,  51. ,  60.8,  70.6,  80.4,\n",
       "         90.2, 100. ]),\n",
       " <BarContainer object of 10 artists>)"
      ]
     },
     "execution_count": 142,
     "metadata": {},
     "output_type": "execute_result"
    },
    {
     "data": {
      "image/png": "[encoded data removed]",
      "text/plain": [
       "<Figure size 432x288 with 1 Axes>"
      ]
     },
     "metadata": {
      "needs_background": "light"
     },
     "output_type": "display_data"
    }
   ],
   "source": [
    "# A count plot that displays the total number of same age group people\n",
    "x_ticks = np.arange(0, data[\"age\"].max(), 10)\n",
    "plt.xticks(x_ticks)\n",
    "plt.hist(data[\"age\"],color='blue', edgecolor='black',linewidth=1)"
   ]
  },
  {
   "cell_type": "markdown",
   "metadata": {},
   "source": [
    "**The imdb data do not have much images for low and high age groups, and in wiki data the female images are quite low compared to male, So let's add some female images from imdb to wiki data**"
   ]
  },
  {
   "cell_type": "code",
   "execution_count": 143,
   "metadata": {},
   "outputs": [],
   "source": [
    "# # # dropping a set of male images\n",
    "# data = data.drop(data[data[\"gender\"]==1].sample(n=10000,random_state = 42).index)\n",
    "# len(data)"
   ]
  },
  {
   "cell_type": "code",
   "execution_count": 144,
   "metadata": {},
   "outputs": [
    {
     "data": {
      "text/html": [
       "<div>\n",
       "<style scoped>\n",
       "    .dataframe tbody tr th:only-of-type {\n",
       "        vertical-align: middle;\n",
       "    }\n",
       "\n",
       "    .dataframe tbody tr th {\n",
       "        vertical-align: top;\n",
       "    }\n",
       "\n",
       "    .dataframe thead th {\n",
       "        text-align: right;\n",
       "    }\n",
       "</style>\n",
       "<table border=\"1\" class=\"dataframe\">\n",
       "  <thead>\n",
       "    <tr style=\"text-align: right;\">\n",
       "      <th></th>\n",
       "      <th>gender</th>\n",
       "      <th>img_path</th>\n",
       "      <th>age</th>\n",
       "    </tr>\n",
       "  </thead>\n",
       "  <tbody>\n",
       "    <tr>\n",
       "      <th>285971</th>\n",
       "      <td>0.0</td>\n",
       "      <td>05/nm2439805_rm3206721792_1977-11-2_2009.jpg</td>\n",
       "      <td>31</td>\n",
       "    </tr>\n",
       "    <tr>\n",
       "      <th>370393</th>\n",
       "      <td>0.0</td>\n",
       "      <td>68/nm2362068_rm2370358016_1986-12-30_2012.jpg</td>\n",
       "      <td>25</td>\n",
       "    </tr>\n",
       "    <tr>\n",
       "      <th>191648</th>\n",
       "      <td>0.0</td>\n",
       "      <td>72/nm0305272_rm3695872512_1979-8-10_2009.jpg</td>\n",
       "      <td>29</td>\n",
       "    </tr>\n",
       "    <tr>\n",
       "      <th>297441</th>\n",
       "      <td>0.0</td>\n",
       "      <td>54/nm0932454_rm2672331264_1988-8-16_2009.jpg</td>\n",
       "      <td>20</td>\n",
       "    </tr>\n",
       "    <tr>\n",
       "      <th>363828</th>\n",
       "      <td>0.0</td>\n",
       "      <td>70/nm0261170_rm4153904896_1973-4-11_2010.jpg</td>\n",
       "      <td>36</td>\n",
       "    </tr>\n",
       "  </tbody>\n",
       "</table>\n",
       "</div>"
      ],
      "text/plain": [
       "        gender                                       img_path  age\n",
       "285971     0.0   05/nm2439805_rm3206721792_1977-11-2_2009.jpg   31\n",
       "370393     0.0  68/nm2362068_rm2370358016_1986-12-30_2012.jpg   25\n",
       "191648     0.0   72/nm0305272_rm3695872512_1979-8-10_2009.jpg   29\n",
       "297441     0.0   54/nm0932454_rm2672331264_1988-8-16_2009.jpg   20\n",
       "363828     0.0   70/nm0261170_rm4153904896_1973-4-11_2010.jpg   36"
      ]
     },
     "execution_count": 144,
     "metadata": {},
     "output_type": "execute_result"
    }
   ],
   "source": [
    "# adding female images from imdb data to wiki data\n",
    "temp_df = data1[data1[\"gender\"] == 0].sample(n=20000,random_state = 42)\n",
    "temp_df.head()"
   ]
  },
  {
   "cell_type": "code",
   "execution_count": 145,
   "metadata": {},
   "outputs": [
    {
     "name": "stdout",
     "output_type": "stream",
     "text": [
      "32\n"
     ]
    }
   ],
   "source": [
    "count = 0 # \n",
    "for k in temp_df[\"age\"]:\n",
    "    if k <= 0 or k>100:\n",
    "        idx = temp_df[temp_df[\"age\"]==k].index.values\n",
    "        temp_df = temp_df.drop(idx)\n",
    "        count += 1\n",
    "print(count)  # even the female images have some images where age is less than 0 and greater than 100"
   ]
  },
  {
   "cell_type": "code",
   "execution_count": 146,
   "metadata": {},
   "outputs": [],
   "source": [
    "data[\"img_path\"] = data[\"img_path\"].apply(lambda x: x.replace(x,\"wiki_crop/\" + x)) #adding the wiki folder name to image path\n",
    "\n",
    "temp_df[\"img_path\"] = temp_df[\"img_path\"].apply(lambda x: x.replace(x,\"imdb_crop/\" + x)) # adding the imdb folder name to image path"
   ]
  },
  {
   "cell_type": "code",
   "execution_count": 147,
   "metadata": {},
   "outputs": [
    {
     "data": {
      "text/html": [
       "<div>\n",
       "<style scoped>\n",
       "    .dataframe tbody tr th:only-of-type {\n",
       "        vertical-align: middle;\n",
       "    }\n",
       "\n",
       "    .dataframe tbody tr th {\n",
       "        vertical-align: top;\n",
       "    }\n",
       "\n",
       "    .dataframe thead th {\n",
       "        text-align: right;\n",
       "    }\n",
       "</style>\n",
       "<table border=\"1\" class=\"dataframe\">\n",
       "  <thead>\n",
       "    <tr style=\"text-align: right;\">\n",
       "      <th></th>\n",
       "      <th>gender</th>\n",
       "      <th>img_path</th>\n",
       "      <th>age</th>\n",
       "    </tr>\n",
       "  </thead>\n",
       "  <tbody>\n",
       "    <tr>\n",
       "      <th>285971</th>\n",
       "      <td>0.0</td>\n",
       "      <td>imdb_crop/05/nm2439805_rm3206721792_1977-11-2_...</td>\n",
       "      <td>31</td>\n",
       "    </tr>\n",
       "    <tr>\n",
       "      <th>370393</th>\n",
       "      <td>0.0</td>\n",
       "      <td>imdb_crop/68/nm2362068_rm2370358016_1986-12-30...</td>\n",
       "      <td>25</td>\n",
       "    </tr>\n",
       "    <tr>\n",
       "      <th>191648</th>\n",
       "      <td>0.0</td>\n",
       "      <td>imdb_crop/72/nm0305272_rm3695872512_1979-8-10_...</td>\n",
       "      <td>29</td>\n",
       "    </tr>\n",
       "    <tr>\n",
       "      <th>297441</th>\n",
       "      <td>0.0</td>\n",
       "      <td>imdb_crop/54/nm0932454_rm2672331264_1988-8-16_...</td>\n",
       "      <td>20</td>\n",
       "    </tr>\n",
       "    <tr>\n",
       "      <th>363828</th>\n",
       "      <td>0.0</td>\n",
       "      <td>imdb_crop/70/nm0261170_rm4153904896_1973-4-11_...</td>\n",
       "      <td>36</td>\n",
       "    </tr>\n",
       "  </tbody>\n",
       "</table>\n",
       "</div>"
      ],
      "text/plain": [
       "        gender                                           img_path  age\n",
       "285971     0.0  imdb_crop/05/nm2439805_rm3206721792_1977-11-2_...   31\n",
       "370393     0.0  imdb_crop/68/nm2362068_rm2370358016_1986-12-30...   25\n",
       "191648     0.0  imdb_crop/72/nm0305272_rm3695872512_1979-8-10_...   29\n",
       "297441     0.0  imdb_crop/54/nm0932454_rm2672331264_1988-8-16_...   20\n",
       "363828     0.0  imdb_crop/70/nm0261170_rm4153904896_1973-4-11_...   36"
      ]
     },
     "execution_count": 147,
     "metadata": {},
     "output_type": "execute_result"
    }
   ],
   "source": [
    "temp_df.head()"
   ]
  },
  {
   "cell_type": "code",
   "execution_count": 148,
   "metadata": {},
   "outputs": [],
   "source": [
    "# finally appending all the data as\n",
    "dataset = data.append(temp_df,ignore_index=True)"
   ]
  },
  {
   "cell_type": "code",
   "execution_count": 149,
   "metadata": {},
   "outputs": [
    {
     "data": {
      "text/plain": [
       "59367"
      ]
     },
     "execution_count": 149,
     "metadata": {},
     "output_type": "execute_result"
    }
   ],
   "source": [
    "len(dataset)"
   ]
  },
  {
   "cell_type": "code",
   "execution_count": 150,
   "metadata": {
    "colab": {
     "base_uri": "https://localhost:8080/"
    },
    "id": "GBEe0kq9vHZk",
    "outputId": "c2e1ef71-12bc-4522-e3c5-f25713107daa"
   },
   "outputs": [
    {
     "data": {
      "text/plain": [
       "<AxesSubplot:xlabel='gender', ylabel='count'>"
      ]
     },
     "execution_count": 150,
     "metadata": {},
     "output_type": "execute_result"
    },
    {
     "data": {
      "image/png": "[encoded data removed]",
      "text/plain": [
       "<Figure size 432x288 with 1 Axes>"
      ]
     },
     "metadata": {
      "needs_background": "light"
     },
     "output_type": "display_data"
    }
   ],
   "source": [
    "# plotting the data\n",
    "sns.countplot(dataset[\"gender\"])"
   ]
  },
  {
   "cell_type": "code",
   "execution_count": 151,
   "metadata": {},
   "outputs": [
    {
     "data": {
      "text/plain": [
       "(array([  261.,  6057., 21433., 13688.,  7909.,  4935.,  2938.,  1457.,\n",
       "          576.,   113.]),\n",
       " array([  1. ,  10.9,  20.8,  30.7,  40.6,  50.5,  60.4,  70.3,  80.2,\n",
       "         90.1, 100. ]),\n",
       " <BarContainer object of 10 artists>)"
      ]
     },
     "execution_count": 151,
     "metadata": {},
     "output_type": "execute_result"
    },
    {
     "data": {
      "image/png": "[encoded data removed]",
      "text/plain": [
       "<Figure size 432x288 with 1 Axes>"
      ]
     },
     "metadata": {
      "needs_background": "light"
     },
     "output_type": "display_data"
    }
   ],
   "source": [
    "# A count plot that displays the total number of same age group people\n",
    "x_ticks = np.arange(0, dataset[\"age\"].max(), 10)\n",
    "plt.xticks(x_ticks)\n",
    "plt.hist(dataset[\"age\"],color='blue', edgecolor='black',linewidth=1)"
   ]
  },
  {
   "cell_type": "code",
   "execution_count": 152,
   "metadata": {
    "id": "6sxU59aaYTZd"
   },
   "outputs": [],
   "source": [
    "# save this file so that, this can be used for building the model \n",
    "dataset.to_csv('data/dataset.csv',index=False)"
   ]
  },
  {
   "cell_type": "code",
   "execution_count": null,
   "metadata": {},
   "outputs": [],
   "source": []
  }
 ],
 "metadata": {
  "colab": {
   "collapsed_sections": [
    "P0VWaNjEGkG0"
   ],
   "name": "data_processing.ipynb",
   "provenance": [],
   "toc_visible": true
  },
  "kernelspec": {
   "display_name": "Python 3",
   "language": "python",
   "name": "python3"
  },
  "language_info": {
   "codemirror_mode": {
    "name": "ipython",
    "version": 3
   },
   "file_extension": ".py",
   "mimetype": "text/x-python",
   "name": "python",
   "nbconvert_exporter": "python",
   "pygments_lexer": "ipython3",
   "version": "3.8.5"
  }
 },
 "nbformat": 4,
 "nbformat_minor": 1
}
