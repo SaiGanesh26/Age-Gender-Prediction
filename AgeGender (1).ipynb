{
 "cells": [
  {
   "cell_type": "markdown",
   "metadata": {
    "colab_type": "text",
    "id": "view-in-github"
   },
   "source": [
    "<a href=\"https://colab.research.google.com/github/SaiGanesh26/Gender-Classification-Age-Prediction/blob/master/AgeGender.ipynb\" target=\"_parent\"><img src=\"https://colab.research.google.com/assets/colab-badge.svg\" alt=\"Open In Colab\"/></a>"
   ]
  },
  {
   "cell_type": "markdown",
   "metadata": {
    "colab_type": "text",
    "id": "1m8Da4OSQqig"
   },
   "source": [
    "# Age Prediction & Gender Classification"
   ]
  },
  {
   "cell_type": "code",
   "execution_count": 1,
   "metadata": {
    "collapsed": true
   },
   "outputs": [
    {
     "name": "stdout",
     "output_type": "stream",
     "text": [
      "Requirement already satisfied: cvlib in c:\\users\\vemul\\appdata\\local\\programs\\python\\python36\\lib\\site-packages (0.2.5)"
     ]
    },
    {
     "name": "stderr",
     "output_type": "stream",
     "text": [
      "WARNING: You are using pip version 20.2.4; however, version 20.3.1 is available.\n",
      "You should consider upgrading via the 'c:\\users\\vemul\\appdata\\local\\programs\\python\\python36\\python.exe -m pip install --upgrade pip' command.\n"
     ]
    },
    {
     "name": "stdout",
     "output_type": "stream",
     "text": [
      "\n",
      "Requirement already satisfied: progressbar in c:\\users\\vemul\\appdata\\local\\programs\\python\\python36\\lib\\site-packages (from cvlib) (2.5)\n",
      "Requirement already satisfied: numpy in c:\\users\\vemul\\appdata\\local\\programs\\python\\python36\\lib\\site-packages (from cvlib) (1.18.5)\n",
      "Requirement already satisfied: pillow in c:\\users\\vemul\\appdata\\local\\programs\\python\\python36\\lib\\site-packages (from cvlib) (8.0.0)\n",
      "Requirement already satisfied: imageio in c:\\users\\vemul\\appdata\\local\\programs\\python\\python36\\lib\\site-packages (from cvlib) (2.9.0)\n",
      "Requirement already satisfied: imutils in c:\\users\\vemul\\appdata\\local\\programs\\python\\python36\\lib\\site-packages (from cvlib) (0.5.3)\n",
      "Requirement already satisfied: requests in c:\\users\\vemul\\appdata\\local\\programs\\python\\python36\\lib\\site-packages (from cvlib) (2.24.0)\n",
      "Requirement already satisfied: certifi>=2017.4.17 in c:\\users\\vemul\\appdata\\local\\programs\\python\\python36\\lib\\site-packages (from requests->cvlib) (2020.6.20)\n",
      "Requirement already satisfied: idna<3,>=2.5 in c:\\users\\vemul\\appdata\\local\\programs\\python\\python36\\lib\\site-packages (from requests->cvlib) (2.10)\n",
      "Requirement already satisfied: chardet<4,>=3.0.2 in c:\\users\\vemul\\appdata\\local\\programs\\python\\python36\\lib\\site-packages (from requests->cvlib) (3.0.4)\n",
      "Requirement already satisfied: urllib3!=1.25.0,!=1.25.1,<1.26,>=1.21.1 in c:\\users\\vemul\\appdata\\local\\programs\\python\\python36\\lib\\site-packages (from requests->cvlib) (1.25.10)\n"
     ]
    }
   ],
   "source": [
    "#!pip install cvlib"
   ]
  },
  {
   "cell_type": "code",
   "execution_count": 1,
   "metadata": {
    "colab": {},
    "colab_type": "code",
    "id": "fNTkr1Bf3Lw0"
   },
   "outputs": [],
   "source": [
    "import cv2\n",
    "import numpy as np\n",
    "import matplotlib.pyplot as plt\n",
    "%matplotlib inline\n",
    "import cvlib as cv\n",
    "import tensorflow as tf\n",
    "from tensorflow.keras.models import load_model\n",
    "# from google.colab import  files\n",
    "# from google.colab.patches import cv2_imshow"
   ]
  },
  {
   "cell_type": "markdown",
   "metadata": {
    "colab_type": "text",
    "id": "42nhVGJSUP0P"
   },
   "source": [
    "#### Load the required models"
   ]
  },
  {
   "cell_type": "code",
   "execution_count": 6,
   "metadata": {},
   "outputs": [],
   "source": [
    "gen_model = load_model(\"models/batch_norm_rms_97.5acc_50epo\")\n",
    "age_model = load_model(\"models/agemodel_CNN2.h5\")"
   ]
  },
  {
   "cell_type": "markdown",
   "metadata": {},
   "source": [
    "## For Existing video"
   ]
  },
  {
   "cell_type": "markdown",
   "metadata": {
    "colab_type": "text",
    "id": "Tk8gMT1RX8Fv"
   },
   "source": [
    "#### Video Input\n",
    "* If existing video file is to be used then file path is given\n",
    "* If live web cam is used just enter 0"
   ]
  },
  {
   "cell_type": "code",
   "execution_count": 4,
   "metadata": {},
   "outputs": [],
   "source": [
    "def detect_face_video(img):\n",
    "    label_dict={0:'Female',1:'Male'}\n",
    "    color_dict={0:(0,255,0),1:(0,0,255)}\n",
    "    age_dict ={0: '10-22', 1:'23-26', 2:'27-31', 3:'32-39', 4:'40-51', 5:'52-99'}\n",
    "\n",
    "    faces, confidences = cv.detect_face(img) \n",
    "    for index,face in enumerate(faces):\n",
    "        x1,y1 = face[0],face[1]\n",
    "        x2,y2 = face[2],face[3]\n",
    "        image = img[y1-20:y2+20,x1-20:x2+20]\n",
    "        image_gry = cv2.cvtColor(image,cv2.COLOR_BGR2GRAY)\n",
    "        resize_img = cv2.resize(image_gry,(200,200))\n",
    "        norm_img = resize_img/255.0\n",
    "        reshaped=np.reshape(norm_img,(1,200,200,1))\n",
    "        #reshaped = np.vstack([reshaped])\n",
    "        \n",
    "        gender_res = gen_model.predict(reshaped) # gender prediction\n",
    "        age_result = age_model.predict(reshaped) # age prediction\n",
    "\n",
    "        if(gender_res[0][0]<0.5):\n",
    "            label=0\n",
    "        else:\n",
    "            label=1\n",
    "\n",
    "        cv2.rectangle(img,(x1,y1),(x2,y2),color_dict[label],thickness = 5)\n",
    "        # cv2.rectangle(img,(x2,y2),(x2,y2),color_dict[label],-1)\n",
    "        cv2.putText(img, label_dict[label]+ ', '+ age_dict[np.argmax(age_result)], (x1, y1+15),cv2.FONT_HERSHEY_SIMPLEX,1,(255,255,255),4)\n",
    "    return img\n",
    "        "
   ]
  },
  {
   "cell_type": "code",
   "execution_count": 2,
   "metadata": {
    "colab": {},
    "colab_type": "code",
    "id": "6aVohCYPX6Nw"
   },
   "outputs": [],
   "source": [
    "video = cv2.VideoCapture('test1.mp4')  # Sincle colab has no option for live recording, existing file is used"
   ]
  },
  {
   "cell_type": "code",
   "execution_count": 3,
   "metadata": {
    "colab": {},
    "colab_type": "code",
    "id": "Ohs7zYxbK621"
   },
   "outputs": [],
   "source": [
    "width = int(video.get(cv2.CAP_PROP_FRAME_WIDTH))\n",
    "height = int(video.get(cv2.CAP_PROP_FRAME_HEIGHT))\n",
    "out = cv2.VideoWriter('test5_out.mp4',cv2.VideoWriter_fourcc(*'XVID'),25,(width,height))"
   ]
  },
  {
   "cell_type": "markdown",
   "metadata": {
    "colab_type": "text",
    "id": "dFzeit-Hb6U0"
   },
   "source": [
    "* colab gives the output of video files as a series of each frame present in video file"
   ]
  },
  {
   "cell_type": "code",
   "execution_count": null,
   "metadata": {
    "colab": {},
    "colab_type": "code",
    "id": "xM-vCzDiZoT_"
   },
   "outputs": [],
   "source": [
    "if video.isOpened() == False:\n",
    "  print('Error! File Not found')\n",
    "while video.isOpened():\n",
    "    ret,frame = video.read()\n",
    "    if ret == True:\n",
    "        frame = detect_face_video(frame)  #detect the face for each frame displayed on video\n",
    "        out.write(frame)\n",
    "    if cv2.waitKey(27) & 0xFF == ord('q'): #if live webcam is given input then video can be quit using letter 'q'\n",
    "        break\n",
    "    else:\n",
    "        break\n",
    "video.release()\n",
    "out.release()\n",
    "cv2.destroyAllWindows()"
   ]
  },
  {
   "cell_type": "markdown",
   "metadata": {},
   "source": [
    "## For image"
   ]
  },
  {
   "cell_type": "code",
   "execution_count": 9,
   "metadata": {},
   "outputs": [],
   "source": [
    "def detect_face_image(img):\n",
    "    label_dict={0:'Female',1:'Male'}\n",
    "    color_dict={0:(0,255,0),1:(0,0,255)}\n",
    "    age_dict ={0: '10-22', 1:'23-26', 2:'27-31', 3:'32-39', 4:'40-51', 5:'52-99'}\n",
    "\n",
    "    faces, confidences = cv.detect_face(img) \n",
    "\n",
    "    for index,face in enumerate(faces):\n",
    "        x1,y1 = face[0],face[1]\n",
    "        x2,y2 = face[2],face[3]\n",
    "        image = img[y1-20:y2+20,x1-20:x2+20]\n",
    "        image_gry = cv2.cvtColor(image,cv2.COLOR_BGR2GRAY)\n",
    "        resize_img = cv2.resize(image_gry,(200,200))\n",
    "        norm_img = resize_img/255.0\n",
    "        reshaped=np.reshape(norm_img,(1,200,200,1))\n",
    "        #reshaped = np.vstack([reshaped])\n",
    "        \n",
    "        gender_res = gen_model.predict(reshaped)\n",
    "        age_result = age_model.predict(reshaped)\n",
    "\n",
    "        if(gender_res[0][0]<0.5):\n",
    "            label=0\n",
    "        else:\n",
    "            label=1\n",
    "\n",
    "        cv2.rectangle(img,(x1,y1),(x2,y2),color_dict[label],thickness = 5)\n",
    "        # cv2.rectangle(img,(x2,y2),(x2,y2),color_dict[label],-1)\n",
    "        cv2.putText(img, label_dict[label]+ ', '+ age_dict[np.argmax(age_result)], (x1, y1+15),cv2.FONT_HERSHEY_SIMPLEX,1,(255,255,255),3)\n",
    "    return img\n",
    "        "
   ]
  },
  {
   "cell_type": "code",
   "execution_count": 14,
   "metadata": {},
   "outputs": [],
   "source": [
    "image = cv2.imread(\"temp1.JPG\")\n",
    "out_image = detect_face_image(image)\n",
    "plt.imshow(out_image)"
   ]
  },
  {
   "cell_type": "markdown",
   "metadata": {},
   "source": [
    "## For live Webcam Video"
   ]
  },
  {
   "cell_type": "code",
   "execution_count": 5,
   "metadata": {
    "colab": {},
    "colab_type": "code",
    "id": "vwVn-IerbZH3"
   },
   "outputs": [],
   "source": [
    "webcam = cv2.VideoCapture(0)\n",
    "while True:\n",
    "    ret,frame = webcam.read()\n",
    "    frame = detect_face_video(frame)  #detect the face for each frame displayed on video\n",
    "    cv2.imshow(\"gender detection\", frame)\n",
    "    k = cv2.waitKey(30) & 0xff\n",
    "    if k==27:\n",
    "        break\n",
    "webcam.release()\n",
    "cv2.destroyAllWindows()"
   ]
  }
 ],
 "metadata": {
  "colab": {
   "authorship_tag": "ABX9TyNdoMOU+KjofJthu5WWRmd6",
   "collapsed_sections": [],
   "include_colab_link": true,
   "name": "AgeGender.ipynb",
   "provenance": []
  },
  "kernelspec": {
   "display_name": "Python 3",
   "language": "python",
   "name": "python3"
  },
  "language_info": {
   "codemirror_mode": {
    "name": "ipython",
    "version": 3
   },
   "file_extension": ".py",
   "mimetype": "text/x-python",
   "name": "python",
   "nbconvert_exporter": "python",
   "pygments_lexer": "ipython3",
   "version": "3.8.5"
  }
 },
 "nbformat": 4,
 "nbformat_minor": 1
}
